{
 "cells": [
  {
   "cell_type": "markdown",
   "metadata": {
    "collapsed": true,
    "pycharm": {
     "name": "#%% md\n"
    }
   },
   "source": [
    "Dicionários\n",
    "https://docs.python.org/pt-br/3/library/stdtypes.html#mapping-types-dict\n"
   ]
  },
  {
   "cell_type": "code",
   "execution_count": 8,
   "outputs": [
    {
     "name": "stdout",
     "output_type": "stream",
     "text": [
      "{'o': 5, 'r': 2, 'i': 4, 'd': 2, 'e': 2, 'j': 1, 'a': 2, 'n': 4, 'c': 1, 't': 1, 'u': 1, 'l': 1}\n"
     ]
    }
   ],
   "source": [
    "# Contagem de letras usando dicionário\n",
    "frase = \"O Rio de Janeiro continua lindo\"\n",
    "frase = frase.lower()\n",
    "contador = {}\n",
    "for caracter in frase.replace(' ', ''):\n",
    "    if caracter in contador:\n",
    "        contador[caracter] += 1\n",
    "    else:\n",
    "        contador[caracter] = 1\n",
    "print(contador)"
   ],
   "metadata": {
    "collapsed": false,
    "pycharm": {
     "name": "#%%\n"
    }
   }
  },
  {
   "cell_type": "code",
   "execution_count": 12,
   "outputs": [
    {
     "name": "stdout",
     "output_type": "stream",
     "text": [
      "defaultdict(<class 'int'>, {'o': 5, 'r': 2, 'i': 4, 'd': 2, 'e': 2, 'j': 1, 'a': 2, 'n': 4, 'c': 1, 't': 1, 'u': 1, 'l': 1})\n"
     ]
    }
   ],
   "source": [
    "# defaultdict faz a mesma coisa:\n",
    "from collections import defaultdict\n",
    "\n",
    "frase = \"O Rio de Janeiro continua lindo\"\n",
    "frase = frase.lower()\n",
    "contador = defaultdict(int)\n",
    "for caracter in frase.replace(' ', ''):\n",
    "    contador[caracter] += 1\n",
    "print(contador)"
   ],
   "metadata": {
    "collapsed": false,
    "pycharm": {
     "name": "#%%\n"
    }
   }
  },
  {
   "cell_type": "markdown",
   "source": [
    "Dado uma turma com três notas de prova, retorne quais alunos foram aprovados ou reprovados com média 5."
   ],
   "metadata": {
    "collapsed": false,
    "pycharm": {
     "name": "#%% md\n"
    }
   }
  },
  {
   "cell_type": "code",
   "execution_count": 16,
   "outputs": [
    {
     "name": "stdout",
     "output_type": "stream",
     "text": [
      "Carlos Aprovado\n",
      "Thais Aprovado\n",
      "João Reprovado\n",
      "Aldo Reprovado\n"
     ]
    }
   ],
   "source": [
    "turma = {\n",
    "    \"Carlos\" : [7,7,7],\n",
    "    \"Thais\" : [5,5,6],\n",
    "    \"João\": [3,6,2],\n",
    "    \"Aldo\": [1,2,2]\n",
    "}\n",
    "\n",
    "for nome, notas in turma.items():\n",
    "    if sum(notas)/len(notas) >= 5:\n",
    "        print(nome, 'Aprovado')\n",
    "    else:\n",
    "        print(nome, 'Reprovado')"
   ],
   "metadata": {
    "collapsed": false,
    "pycharm": {
     "name": "#%%\n"
    }
   }
  }
 ],
 "metadata": {
  "kernelspec": {
   "display_name": "Python 3",
   "language": "python",
   "name": "python3"
  },
  "language_info": {
   "codemirror_mode": {
    "name": "ipython",
    "version": 2
   },
   "file_extension": ".py",
   "mimetype": "text/x-python",
   "name": "python",
   "nbconvert_exporter": "python",
   "pygments_lexer": "ipython2",
   "version": "2.7.6"
  }
 },
 "nbformat": 4,
 "nbformat_minor": 0
}