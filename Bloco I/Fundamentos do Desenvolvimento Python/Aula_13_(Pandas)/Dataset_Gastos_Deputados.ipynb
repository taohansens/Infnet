{
 "cells": [
  {
   "cell_type": "code",
   "execution_count": 77,
   "metadata": {
    "collapsed": true
   },
   "outputs": [],
   "source": [
    "import pandas as pd"
   ]
  },
  {
   "cell_type": "code",
   "execution_count": 78,
   "outputs": [],
   "source": [
    "data_2018 = pd.read_csv(\"Ano-2018.csv\", sep=';', parse_dates=[\"datEmissao\"])"
   ],
   "metadata": {
    "collapsed": false,
    "pycharm": {
     "name": "#%%\n"
    }
   }
  },
  {
   "cell_type": "markdown",
   "source": [
    "Transposição da tabela"
   ],
   "metadata": {
    "collapsed": false
   }
  },
  {
   "cell_type": "code",
   "execution_count": 79,
   "outputs": [
    {
     "data": {
      "text/plain": "                                                                    0  \\\ntxNomeParlamentar                                              AVANTE   \nideCadastro                                                       NaN   \nnuCarteiraParlamentar                                             NaN   \nnuLegislatura                                                    2015   \nsgUF                                                              NaN   \nsgPartido                                                         NaN   \ncodLegislatura                                                     55   \nnumSubCota                                                         13   \ntxtDescricao               FORNECIMENTO DE ALIMENTAÇÃO DO PARLAMENTAR   \nnumEspecificacaoSubCota                                             0   \ntxtDescricaoEspecificacao                                         NaN   \ntxtFornecedor                        BISCOITOS CASEIROS HOMONNAI LTDA   \ntxtCNPJCPF                                         046.448.200/0017-7   \ntxtNumero                                                        5507   \nindTipoDocumento                                                    4   \ndatEmissao                                        2018-06-26 00:00:00   \nvlrDocumento                                                   181.37   \nvlrGlosa                                                            0   \nvlrLiquido                                                     181.37   \nnumMes                                                              6   \nnumAno                                                           2018   \nnumParcela                                                          0   \ntxtPassageiro                                                     NaN   \ntxtTrecho                                                         NaN   \nnumLote                                                       1510946   \nnumRessarcimento                                                  NaN   \nvlrRestituicao                                                    NaN   \nnuDeputadoId                                                     3175   \nideDocumento                                                  6621498   \n\n                                                                    1  \\\ntxNomeParlamentar                                              AVANTE   \nideCadastro                                                       NaN   \nnuCarteiraParlamentar                                             NaN   \nnuLegislatura                                                    2015   \nsgUF                                                              NaN   \nsgPartido                                                         NaN   \ncodLegislatura                                                     55   \nnumSubCota                                                         13   \ntxtDescricao               FORNECIMENTO DE ALIMENTAÇÃO DO PARLAMENTAR   \nnumEspecificacaoSubCota                                             0   \ntxtDescricaoEspecificacao                                         NaN   \ntxtFornecedor                           CASA DE CARNES GOMES E ARAUJO   \ntxtCNPJCPF                                         246.489.700/0016-6   \ntxtNumero                                                       37545   \nindTipoDocumento                                                    4   \ndatEmissao                                        2018-05-22 00:00:00   \nvlrDocumento                                                   259.28   \nvlrGlosa                                                            0   \nvlrLiquido                                                     259.28   \nnumMes                                                              5   \nnumAno                                                           2018   \nnumParcela                                                          0   \ntxtPassageiro                                                     NaN   \ntxtTrecho                                                         NaN   \nnumLote                                                       1496849   \nnumRessarcimento                                                  NaN   \nvlrRestituicao                                                    NaN   \nnuDeputadoId                                                     3175   \nideDocumento                                                  6585814   \n\n                                                                    2  \\\ntxNomeParlamentar                                              AVANTE   \nideCadastro                                                       NaN   \nnuCarteiraParlamentar                                             NaN   \nnuLegislatura                                                    2015   \nsgUF                                                              NaN   \nsgPartido                                                         NaN   \ncodLegislatura                                                     55   \nnumSubCota                                                         13   \ntxtDescricao               FORNECIMENTO DE ALIMENTAÇÃO DO PARLAMENTAR   \nnumEspecificacaoSubCota                                             0   \ntxtDescricaoEspecificacao                                         NaN   \ntxtFornecedor                                   FRED RESTAURANTE LTDA   \ntxtCNPJCPF                                         367.564.350/0010-8   \ntxtNumero                                                       11609   \nindTipoDocumento                                                    4   \ndatEmissao                                        2018-06-06 00:00:00   \nvlrDocumento                                                      353   \nvlrGlosa                                                           21   \nvlrLiquido                                                        332   \nnumMes                                                              6   \nnumAno                                                           2018   \nnumParcela                                                          0   \ntxtPassageiro                                                     NaN   \ntxtTrecho                                                         NaN   \nnumLote                                                       1502980   \nnumRessarcimento                                                  NaN   \nvlrRestituicao                                                    NaN   \nnuDeputadoId                                                     3175   \nideDocumento                                                  6599785   \n\n                                                                    3  \\\ntxNomeParlamentar                                              AVANTE   \nideCadastro                                                       NaN   \nnuCarteiraParlamentar                                             NaN   \nnuLegislatura                                                    2015   \nsgUF                                                              NaN   \nsgPartido                                                         NaN   \ncodLegislatura                                                     55   \nnumSubCota                                                         13   \ntxtDescricao               FORNECIMENTO DE ALIMENTAÇÃO DO PARLAMENTAR   \nnumEspecificacaoSubCota                                             0   \ntxtDescricaoEspecificacao                                         NaN   \ntxtFornecedor                      JAMILLE LAFAIATE DE ANDRADE MORAIS   \ntxtCNPJCPF                                         292.865.450/0019-8   \ntxtNumero                                                       27368   \nindTipoDocumento                                                    0   \ndatEmissao                                        2018-03-12 00:00:00   \nvlrDocumento                                                      300   \nvlrGlosa                                                            0   \nvlrLiquido                                                        300   \nnumMes                                                              3   \nnumAno                                                           2018   \nnumParcela                                                          0   \ntxtPassageiro                                                     NaN   \ntxtTrecho                                                         NaN   \nnumLote                                                       1479240   \nnumRessarcimento                                                  NaN   \nvlrRestituicao                                                    NaN   \nnuDeputadoId                                                     3175   \nideDocumento                                                  6539679   \n\n                                                                        4  \ntxNomeParlamentar                                                  AVANTE  \nideCadastro                                                           NaN  \nnuCarteiraParlamentar                                                 NaN  \nnuLegislatura                                                        2015  \nsgUF                                                                  NaN  \nsgPartido                                                             NaN  \ncodLegislatura                                                         55  \nnumSubCota                                                             13  \ntxtDescricao                   FORNECIMENTO DE ALIMENTAÇÃO DO PARLAMENTAR  \nnumEspecificacaoSubCota                                                 0  \ntxtDescricaoEspecificacao                                             NaN  \ntxtFornecedor              JAMILLE LAFAIETE DE ANDRADE MORAIS 06555315130  \ntxtCNPJCPF                                             292.865.450/0019-8  \ntxtNumero                                                           27367  \nindTipoDocumento                                                        0  \ndatEmissao                                            2018-03-12 00:00:00  \nvlrDocumento                                                          330  \nvlrGlosa                                                                0  \nvlrLiquido                                                            330  \nnumMes                                                                  3  \nnumAno                                                               2018  \nnumParcela                                                              0  \ntxtPassageiro                                                         NaN  \ntxtTrecho                                                             NaN  \nnumLote                                                           1479240  \nnumRessarcimento                                                      NaN  \nvlrRestituicao                                                        NaN  \nnuDeputadoId                                                         3175  \nideDocumento                                                      6539680  ",
      "text/html": "<div>\n<style scoped>\n    .dataframe tbody tr th:only-of-type {\n        vertical-align: middle;\n    }\n\n    .dataframe tbody tr th {\n        vertical-align: top;\n    }\n\n    .dataframe thead th {\n        text-align: right;\n    }\n</style>\n<table border=\"1\" class=\"dataframe\">\n  <thead>\n    <tr style=\"text-align: right;\">\n      <th></th>\n      <th>0</th>\n      <th>1</th>\n      <th>2</th>\n      <th>3</th>\n      <th>4</th>\n    </tr>\n  </thead>\n  <tbody>\n    <tr>\n      <th>txNomeParlamentar</th>\n      <td>AVANTE</td>\n      <td>AVANTE</td>\n      <td>AVANTE</td>\n      <td>AVANTE</td>\n      <td>AVANTE</td>\n    </tr>\n    <tr>\n      <th>ideCadastro</th>\n      <td>NaN</td>\n      <td>NaN</td>\n      <td>NaN</td>\n      <td>NaN</td>\n      <td>NaN</td>\n    </tr>\n    <tr>\n      <th>nuCarteiraParlamentar</th>\n      <td>NaN</td>\n      <td>NaN</td>\n      <td>NaN</td>\n      <td>NaN</td>\n      <td>NaN</td>\n    </tr>\n    <tr>\n      <th>nuLegislatura</th>\n      <td>2015</td>\n      <td>2015</td>\n      <td>2015</td>\n      <td>2015</td>\n      <td>2015</td>\n    </tr>\n    <tr>\n      <th>sgUF</th>\n      <td>NaN</td>\n      <td>NaN</td>\n      <td>NaN</td>\n      <td>NaN</td>\n      <td>NaN</td>\n    </tr>\n    <tr>\n      <th>sgPartido</th>\n      <td>NaN</td>\n      <td>NaN</td>\n      <td>NaN</td>\n      <td>NaN</td>\n      <td>NaN</td>\n    </tr>\n    <tr>\n      <th>codLegislatura</th>\n      <td>55</td>\n      <td>55</td>\n      <td>55</td>\n      <td>55</td>\n      <td>55</td>\n    </tr>\n    <tr>\n      <th>numSubCota</th>\n      <td>13</td>\n      <td>13</td>\n      <td>13</td>\n      <td>13</td>\n      <td>13</td>\n    </tr>\n    <tr>\n      <th>txtDescricao</th>\n      <td>FORNECIMENTO DE ALIMENTAÇÃO DO PARLAMENTAR</td>\n      <td>FORNECIMENTO DE ALIMENTAÇÃO DO PARLAMENTAR</td>\n      <td>FORNECIMENTO DE ALIMENTAÇÃO DO PARLAMENTAR</td>\n      <td>FORNECIMENTO DE ALIMENTAÇÃO DO PARLAMENTAR</td>\n      <td>FORNECIMENTO DE ALIMENTAÇÃO DO PARLAMENTAR</td>\n    </tr>\n    <tr>\n      <th>numEspecificacaoSubCota</th>\n      <td>0</td>\n      <td>0</td>\n      <td>0</td>\n      <td>0</td>\n      <td>0</td>\n    </tr>\n    <tr>\n      <th>txtDescricaoEspecificacao</th>\n      <td>NaN</td>\n      <td>NaN</td>\n      <td>NaN</td>\n      <td>NaN</td>\n      <td>NaN</td>\n    </tr>\n    <tr>\n      <th>txtFornecedor</th>\n      <td>BISCOITOS CASEIROS HOMONNAI LTDA</td>\n      <td>CASA DE CARNES GOMES E ARAUJO</td>\n      <td>FRED RESTAURANTE LTDA</td>\n      <td>JAMILLE LAFAIATE DE ANDRADE MORAIS</td>\n      <td>JAMILLE LAFAIETE DE ANDRADE MORAIS 06555315130</td>\n    </tr>\n    <tr>\n      <th>txtCNPJCPF</th>\n      <td>046.448.200/0017-7</td>\n      <td>246.489.700/0016-6</td>\n      <td>367.564.350/0010-8</td>\n      <td>292.865.450/0019-8</td>\n      <td>292.865.450/0019-8</td>\n    </tr>\n    <tr>\n      <th>txtNumero</th>\n      <td>5507</td>\n      <td>37545</td>\n      <td>11609</td>\n      <td>27368</td>\n      <td>27367</td>\n    </tr>\n    <tr>\n      <th>indTipoDocumento</th>\n      <td>4</td>\n      <td>4</td>\n      <td>4</td>\n      <td>0</td>\n      <td>0</td>\n    </tr>\n    <tr>\n      <th>datEmissao</th>\n      <td>2018-06-26 00:00:00</td>\n      <td>2018-05-22 00:00:00</td>\n      <td>2018-06-06 00:00:00</td>\n      <td>2018-03-12 00:00:00</td>\n      <td>2018-03-12 00:00:00</td>\n    </tr>\n    <tr>\n      <th>vlrDocumento</th>\n      <td>181.37</td>\n      <td>259.28</td>\n      <td>353</td>\n      <td>300</td>\n      <td>330</td>\n    </tr>\n    <tr>\n      <th>vlrGlosa</th>\n      <td>0</td>\n      <td>0</td>\n      <td>21</td>\n      <td>0</td>\n      <td>0</td>\n    </tr>\n    <tr>\n      <th>vlrLiquido</th>\n      <td>181.37</td>\n      <td>259.28</td>\n      <td>332</td>\n      <td>300</td>\n      <td>330</td>\n    </tr>\n    <tr>\n      <th>numMes</th>\n      <td>6</td>\n      <td>5</td>\n      <td>6</td>\n      <td>3</td>\n      <td>3</td>\n    </tr>\n    <tr>\n      <th>numAno</th>\n      <td>2018</td>\n      <td>2018</td>\n      <td>2018</td>\n      <td>2018</td>\n      <td>2018</td>\n    </tr>\n    <tr>\n      <th>numParcela</th>\n      <td>0</td>\n      <td>0</td>\n      <td>0</td>\n      <td>0</td>\n      <td>0</td>\n    </tr>\n    <tr>\n      <th>txtPassageiro</th>\n      <td>NaN</td>\n      <td>NaN</td>\n      <td>NaN</td>\n      <td>NaN</td>\n      <td>NaN</td>\n    </tr>\n    <tr>\n      <th>txtTrecho</th>\n      <td>NaN</td>\n      <td>NaN</td>\n      <td>NaN</td>\n      <td>NaN</td>\n      <td>NaN</td>\n    </tr>\n    <tr>\n      <th>numLote</th>\n      <td>1510946</td>\n      <td>1496849</td>\n      <td>1502980</td>\n      <td>1479240</td>\n      <td>1479240</td>\n    </tr>\n    <tr>\n      <th>numRessarcimento</th>\n      <td>NaN</td>\n      <td>NaN</td>\n      <td>NaN</td>\n      <td>NaN</td>\n      <td>NaN</td>\n    </tr>\n    <tr>\n      <th>vlrRestituicao</th>\n      <td>NaN</td>\n      <td>NaN</td>\n      <td>NaN</td>\n      <td>NaN</td>\n      <td>NaN</td>\n    </tr>\n    <tr>\n      <th>nuDeputadoId</th>\n      <td>3175</td>\n      <td>3175</td>\n      <td>3175</td>\n      <td>3175</td>\n      <td>3175</td>\n    </tr>\n    <tr>\n      <th>ideDocumento</th>\n      <td>6621498</td>\n      <td>6585814</td>\n      <td>6599785</td>\n      <td>6539679</td>\n      <td>6539680</td>\n    </tr>\n  </tbody>\n</table>\n</div>"
     },
     "execution_count": 79,
     "metadata": {},
     "output_type": "execute_result"
    }
   ],
   "source": [
    "data_2018.head().T\n"
   ],
   "metadata": {
    "collapsed": false,
    "pycharm": {
     "name": "#%%\n"
    }
   }
  },
  {
   "cell_type": "code",
   "execution_count": 80,
   "outputs": [
    {
     "data": {
      "text/plain": "       txNomeParlamentar  ideCadastro  nuCarteiraParlamentar  nuLegislatura  \\\n752         SILVIO COSTA       4930.0                  160.0           2015   \n753         SILVIO COSTA       4930.0                  160.0           2015   \n754         SILVIO COSTA       4930.0                  160.0           2015   \n755         SILVIO COSTA       4930.0                  160.0           2015   \n756         SILVIO COSTA       4930.0                  160.0           2015   \n...                  ...          ...                    ...            ...   \n292400      FELIPE SOUZA     205234.0                  620.0           2015   \n292401      FELIPE SOUZA     205234.0                  620.0           2015   \n292402      FELIPE SOUZA     205234.0                  620.0           2015   \n292403      FELIPE SOUZA     205234.0                  620.0           2015   \n292404      FELIPE SOUZA     205234.0                  620.0           2015   \n\n       sgUF sgPartido  codLegislatura  numSubCota  \\\n752      PE    AVANTE              55           1   \n753      PE    AVANTE              55           1   \n754      PE    AVANTE              55           1   \n755      PE    AVANTE              55           1   \n756      PE    AVANTE              55           1   \n...     ...       ...             ...         ...   \n292400   AM       PHS              55          10   \n292401   AM       PHS              55          13   \n292402   AM       PHS              55          13   \n292403   AM       PHS              55         120   \n292404   AM       PHS              55         999   \n\n                                             txtDescricao  \\\n752     MANUTENÇÃO DE ESCRITÓRIO DE APOIO À ATIVIDADE ...   \n753     MANUTENÇÃO DE ESCRITÓRIO DE APOIO À ATIVIDADE ...   \n754     MANUTENÇÃO DE ESCRITÓRIO DE APOIO À ATIVIDADE ...   \n755     MANUTENÇÃO DE ESCRITÓRIO DE APOIO À ATIVIDADE ...   \n756     MANUTENÇÃO DE ESCRITÓRIO DE APOIO À ATIVIDADE ...   \n...                                                   ...   \n292400                                          TELEFONIA   \n292401         FORNECIMENTO DE ALIMENTAÇÃO DO PARLAMENTAR   \n292402         FORNECIMENTO DE ALIMENTAÇÃO DO PARLAMENTAR   \n292403      LOCAÇÃO OU FRETAMENTO DE VEÍCULOS AUTOMOTORES   \n292404                              Emissão Bilhete Aéreo   \n\n        numEspecificacaoSubCota  ... numMes numAno numParcela  \\\n752                           0  ...      1   2018          0   \n753                           0  ...      2   2018          0   \n754                           0  ...      3   2018          0   \n755                           0  ...      5   2018          0   \n756                           0  ...      6   2018          0   \n...                         ...  ...    ...    ...        ...   \n292400                        0  ...     12   2018          0   \n292401                        0  ...     12   2018          0   \n292402                        0  ...     12   2018          0   \n292403                        0  ...     12   2018          0   \n292404                        0  ...     12   2018          0   \n\n                    txtPassageiro  txtTrecho  numLote  numRessarcimento  \\\n752                           NaN        NaN  1470218               NaN   \n753                           NaN        NaN  1475409               NaN   \n754                           NaN        NaN  1484081               NaN   \n755                           NaN        NaN  1506914               NaN   \n756                           NaN        NaN  1515253               NaN   \n...                           ...        ...      ...               ...   \n292400                        NaN        NaN        0               0.0   \n292401                        NaN        NaN  1551109               NaN   \n292402                        NaN        NaN  1551290               NaN   \n292403                        NaN        NaN  1554106               NaN   \n292404  RAIMUNDO N PINHEIRO SOUZA    MAO/GRU        0               0.0   \n\n        vlrRestituicao  nuDeputadoId  ideDocumento  \n752                NaN          1973       6516403  \n753                NaN          1973       6529805  \n754                NaN          1973       6551866  \n755                NaN          1973       6610155  \n756                NaN          1973       6633681  \n...                ...           ...           ...  \n292400             NaN          3188             0  \n292401             NaN          3188       6729488  \n292402             NaN          3188       6729939  \n292403             NaN          3188       6737772  \n292404             NaN          3188       1630187  \n\n[291653 rows x 29 columns]",
      "text/html": "<div>\n<style scoped>\n    .dataframe tbody tr th:only-of-type {\n        vertical-align: middle;\n    }\n\n    .dataframe tbody tr th {\n        vertical-align: top;\n    }\n\n    .dataframe thead th {\n        text-align: right;\n    }\n</style>\n<table border=\"1\" class=\"dataframe\">\n  <thead>\n    <tr style=\"text-align: right;\">\n      <th></th>\n      <th>txNomeParlamentar</th>\n      <th>ideCadastro</th>\n      <th>nuCarteiraParlamentar</th>\n      <th>nuLegislatura</th>\n      <th>sgUF</th>\n      <th>sgPartido</th>\n      <th>codLegislatura</th>\n      <th>numSubCota</th>\n      <th>txtDescricao</th>\n      <th>numEspecificacaoSubCota</th>\n      <th>...</th>\n      <th>numMes</th>\n      <th>numAno</th>\n      <th>numParcela</th>\n      <th>txtPassageiro</th>\n      <th>txtTrecho</th>\n      <th>numLote</th>\n      <th>numRessarcimento</th>\n      <th>vlrRestituicao</th>\n      <th>nuDeputadoId</th>\n      <th>ideDocumento</th>\n    </tr>\n  </thead>\n  <tbody>\n    <tr>\n      <th>752</th>\n      <td>SILVIO COSTA</td>\n      <td>4930.0</td>\n      <td>160.0</td>\n      <td>2015</td>\n      <td>PE</td>\n      <td>AVANTE</td>\n      <td>55</td>\n      <td>1</td>\n      <td>MANUTENÇÃO DE ESCRITÓRIO DE APOIO À ATIVIDADE ...</td>\n      <td>0</td>\n      <td>...</td>\n      <td>1</td>\n      <td>2018</td>\n      <td>0</td>\n      <td>NaN</td>\n      <td>NaN</td>\n      <td>1470218</td>\n      <td>NaN</td>\n      <td>NaN</td>\n      <td>1973</td>\n      <td>6516403</td>\n    </tr>\n    <tr>\n      <th>753</th>\n      <td>SILVIO COSTA</td>\n      <td>4930.0</td>\n      <td>160.0</td>\n      <td>2015</td>\n      <td>PE</td>\n      <td>AVANTE</td>\n      <td>55</td>\n      <td>1</td>\n      <td>MANUTENÇÃO DE ESCRITÓRIO DE APOIO À ATIVIDADE ...</td>\n      <td>0</td>\n      <td>...</td>\n      <td>2</td>\n      <td>2018</td>\n      <td>0</td>\n      <td>NaN</td>\n      <td>NaN</td>\n      <td>1475409</td>\n      <td>NaN</td>\n      <td>NaN</td>\n      <td>1973</td>\n      <td>6529805</td>\n    </tr>\n    <tr>\n      <th>754</th>\n      <td>SILVIO COSTA</td>\n      <td>4930.0</td>\n      <td>160.0</td>\n      <td>2015</td>\n      <td>PE</td>\n      <td>AVANTE</td>\n      <td>55</td>\n      <td>1</td>\n      <td>MANUTENÇÃO DE ESCRITÓRIO DE APOIO À ATIVIDADE ...</td>\n      <td>0</td>\n      <td>...</td>\n      <td>3</td>\n      <td>2018</td>\n      <td>0</td>\n      <td>NaN</td>\n      <td>NaN</td>\n      <td>1484081</td>\n      <td>NaN</td>\n      <td>NaN</td>\n      <td>1973</td>\n      <td>6551866</td>\n    </tr>\n    <tr>\n      <th>755</th>\n      <td>SILVIO COSTA</td>\n      <td>4930.0</td>\n      <td>160.0</td>\n      <td>2015</td>\n      <td>PE</td>\n      <td>AVANTE</td>\n      <td>55</td>\n      <td>1</td>\n      <td>MANUTENÇÃO DE ESCRITÓRIO DE APOIO À ATIVIDADE ...</td>\n      <td>0</td>\n      <td>...</td>\n      <td>5</td>\n      <td>2018</td>\n      <td>0</td>\n      <td>NaN</td>\n      <td>NaN</td>\n      <td>1506914</td>\n      <td>NaN</td>\n      <td>NaN</td>\n      <td>1973</td>\n      <td>6610155</td>\n    </tr>\n    <tr>\n      <th>756</th>\n      <td>SILVIO COSTA</td>\n      <td>4930.0</td>\n      <td>160.0</td>\n      <td>2015</td>\n      <td>PE</td>\n      <td>AVANTE</td>\n      <td>55</td>\n      <td>1</td>\n      <td>MANUTENÇÃO DE ESCRITÓRIO DE APOIO À ATIVIDADE ...</td>\n      <td>0</td>\n      <td>...</td>\n      <td>6</td>\n      <td>2018</td>\n      <td>0</td>\n      <td>NaN</td>\n      <td>NaN</td>\n      <td>1515253</td>\n      <td>NaN</td>\n      <td>NaN</td>\n      <td>1973</td>\n      <td>6633681</td>\n    </tr>\n    <tr>\n      <th>...</th>\n      <td>...</td>\n      <td>...</td>\n      <td>...</td>\n      <td>...</td>\n      <td>...</td>\n      <td>...</td>\n      <td>...</td>\n      <td>...</td>\n      <td>...</td>\n      <td>...</td>\n      <td>...</td>\n      <td>...</td>\n      <td>...</td>\n      <td>...</td>\n      <td>...</td>\n      <td>...</td>\n      <td>...</td>\n      <td>...</td>\n      <td>...</td>\n      <td>...</td>\n      <td>...</td>\n    </tr>\n    <tr>\n      <th>292400</th>\n      <td>FELIPE SOUZA</td>\n      <td>205234.0</td>\n      <td>620.0</td>\n      <td>2015</td>\n      <td>AM</td>\n      <td>PHS</td>\n      <td>55</td>\n      <td>10</td>\n      <td>TELEFONIA</td>\n      <td>0</td>\n      <td>...</td>\n      <td>12</td>\n      <td>2018</td>\n      <td>0</td>\n      <td>NaN</td>\n      <td>NaN</td>\n      <td>0</td>\n      <td>0.0</td>\n      <td>NaN</td>\n      <td>3188</td>\n      <td>0</td>\n    </tr>\n    <tr>\n      <th>292401</th>\n      <td>FELIPE SOUZA</td>\n      <td>205234.0</td>\n      <td>620.0</td>\n      <td>2015</td>\n      <td>AM</td>\n      <td>PHS</td>\n      <td>55</td>\n      <td>13</td>\n      <td>FORNECIMENTO DE ALIMENTAÇÃO DO PARLAMENTAR</td>\n      <td>0</td>\n      <td>...</td>\n      <td>12</td>\n      <td>2018</td>\n      <td>0</td>\n      <td>NaN</td>\n      <td>NaN</td>\n      <td>1551109</td>\n      <td>NaN</td>\n      <td>NaN</td>\n      <td>3188</td>\n      <td>6729488</td>\n    </tr>\n    <tr>\n      <th>292402</th>\n      <td>FELIPE SOUZA</td>\n      <td>205234.0</td>\n      <td>620.0</td>\n      <td>2015</td>\n      <td>AM</td>\n      <td>PHS</td>\n      <td>55</td>\n      <td>13</td>\n      <td>FORNECIMENTO DE ALIMENTAÇÃO DO PARLAMENTAR</td>\n      <td>0</td>\n      <td>...</td>\n      <td>12</td>\n      <td>2018</td>\n      <td>0</td>\n      <td>NaN</td>\n      <td>NaN</td>\n      <td>1551290</td>\n      <td>NaN</td>\n      <td>NaN</td>\n      <td>3188</td>\n      <td>6729939</td>\n    </tr>\n    <tr>\n      <th>292403</th>\n      <td>FELIPE SOUZA</td>\n      <td>205234.0</td>\n      <td>620.0</td>\n      <td>2015</td>\n      <td>AM</td>\n      <td>PHS</td>\n      <td>55</td>\n      <td>120</td>\n      <td>LOCAÇÃO OU FRETAMENTO DE VEÍCULOS AUTOMOTORES</td>\n      <td>0</td>\n      <td>...</td>\n      <td>12</td>\n      <td>2018</td>\n      <td>0</td>\n      <td>NaN</td>\n      <td>NaN</td>\n      <td>1554106</td>\n      <td>NaN</td>\n      <td>NaN</td>\n      <td>3188</td>\n      <td>6737772</td>\n    </tr>\n    <tr>\n      <th>292404</th>\n      <td>FELIPE SOUZA</td>\n      <td>205234.0</td>\n      <td>620.0</td>\n      <td>2015</td>\n      <td>AM</td>\n      <td>PHS</td>\n      <td>55</td>\n      <td>999</td>\n      <td>Emissão Bilhete Aéreo</td>\n      <td>0</td>\n      <td>...</td>\n      <td>12</td>\n      <td>2018</td>\n      <td>0</td>\n      <td>RAIMUNDO N PINHEIRO SOUZA</td>\n      <td>MAO/GRU</td>\n      <td>0</td>\n      <td>0.0</td>\n      <td>NaN</td>\n      <td>3188</td>\n      <td>1630187</td>\n    </tr>\n  </tbody>\n</table>\n<p>291653 rows × 29 columns</p>\n</div>"
     },
     "execution_count": 80,
     "metadata": {},
     "output_type": "execute_result"
    }
   ],
   "source": [
    "data_2018 = data_2018[pd.isna(data_2018['sgPartido']) == False]\n",
    "data_2018"
   ],
   "metadata": {
    "collapsed": false,
    "pycharm": {
     "name": "#%%\n"
    }
   }
  },
  {
   "cell_type": "markdown",
   "source": [
    "Quanto gasta cada deputado por ano?"
   ],
   "metadata": {
    "collapsed": false,
    "pycharm": {
     "name": "#%% md\n"
    }
   }
  },
  {
   "cell_type": "code",
   "execution_count": 81,
   "outputs": [
    {
     "data": {
      "text/plain": "txNomeParlamentar\nARLINDO CHINAGLIA             618776.41\nJHONATAN DE JESUS             561401.20\nZECA CAVALCANTI               557620.91\nJÉSSICA SALES                 552221.07\nREMÍDIO MONAI                 549233.02\n                                ...    \nJOSÉ FOGAÇA                    50116.59\nWILSON BESERRA                 31749.19\nIZAQUE SILVA                   28105.14\nWASHINGTON CORAÇÃO VALENTE     26139.70\nFELIPE SOUZA                   18019.76\nName: vlrDocumento, Length: 555, dtype: float64"
     },
     "execution_count": 81,
     "metadata": {},
     "output_type": "execute_result"
    }
   ],
   "source": [
    "data_2018.groupby(['txNomeParlamentar'])['vlrDocumento'].sum().sort_values(ascending=False)"
   ],
   "metadata": {
    "collapsed": false,
    "pycharm": {
     "name": "#%%\n"
    }
   }
  },
  {
   "cell_type": "markdown",
   "source": [
    "Quem gastou mais vezes?"
   ],
   "metadata": {
    "collapsed": false
   }
  },
  {
   "cell_type": "code",
   "execution_count": 82,
   "outputs": [
    {
     "data": {
      "text/plain": "DIEGO GARCIA           1931\nJORGE TADEU MUDALEN    1753\nCAPITÃO AUGUSTO        1666\nHENRIQUE FONTANA       1483\nDIMAS FABIANO          1409\nPEDRO UCZAI            1408\nJORGE SOLLA            1390\nMIGUEL LOMBARDI        1385\nZECA DIRCEU            1358\nMARIA DO ROSÁRIO       1333\nName: txNomeParlamentar, dtype: int64"
     },
     "execution_count": 82,
     "metadata": {},
     "output_type": "execute_result"
    }
   ],
   "source": [
    "data_2018['txNomeParlamentar'].value_counts()[:10]"
   ],
   "metadata": {
    "collapsed": false,
    "pycharm": {
     "name": "#%%\n"
    }
   }
  },
  {
   "cell_type": "markdown",
   "source": [
    "Qual partido gastou mais?"
   ],
   "metadata": {
    "collapsed": false
   }
  },
  {
   "cell_type": "code",
   "execution_count": 83,
   "outputs": [],
   "source": [
    "gasto = data_2018.groupby(['sgPartido'])['vlrDocumento'].sum()"
   ],
   "metadata": {
    "collapsed": false,
    "pycharm": {
     "name": "#%%\n"
    }
   }
  },
  {
   "cell_type": "markdown",
   "source": [
    "Número de deputados por partido"
   ],
   "metadata": {
    "collapsed": false
   }
  },
  {
   "cell_type": "code",
   "execution_count": 84,
   "outputs": [
    {
     "data": {
      "text/plain": "sgPartido\nAVANTE            6\nDEM              45\nMDB              57\nPATRI             5\nPCdoB            13\nPDT              24\nPHS               5\nPODE             20\nPP               55\nPPL               1\nPPS              10\nPR               41\nPRB              23\nPROS             11\nPSB              28\nPSC              10\nPSD              39\nPSDB             52\nPSL               9\nPSOL              6\nPT               62\nPTB              16\nPV                4\nREDE              2\nSOLIDARIEDADE    11\nName: txNomeParlamentar, dtype: int64"
     },
     "execution_count": 84,
     "metadata": {},
     "output_type": "execute_result"
    }
   ],
   "source": [
    "partidos = data_2018.groupby(['sgPartido'])['txNomeParlamentar'].nunique()\n",
    "partidos"
   ],
   "metadata": {
    "collapsed": false,
    "pycharm": {
     "name": "#%%\n"
    }
   }
  },
  {
   "cell_type": "code",
   "execution_count": 85,
   "outputs": [
    {
     "data": {
      "text/plain": "               vlrDocumento  txNomeParlamentar  media_deputado\nsgPartido                                                     \nPPL            4.849136e+05                  1   484913.560000\nPTB            7.412313e+06                 16   463269.580000\nPROS           4.809456e+06                 11   437223.229091\nPT             2.657885e+07                 62   428691.181613\nAVANTE         2.541253e+06                  6   423542.103333\nPSB            1.150624e+07                 28   410937.146429\nPSD            1.576786e+07                 39   404304.022821\nPATRI          2.014903e+06                  5   402980.550000\nDEM            1.791585e+07                 45   398129.974444\nPRB            9.046844e+06                 23   393341.028696\nPR             1.602908e+07                 41   390953.070488\nMDB            2.186256e+07                 57   383553.716842\nPODE           7.653522e+06                 20   382676.100500\nPP             2.101120e+07                 55   382021.786364\nPCdoB          4.917707e+06                 13   378285.156923\nPHS            1.882794e+06                  5   376558.706000\nPDT            8.856811e+06                 24   369033.783750\nPSDB           1.904700e+07                 52   366288.485577\nSOLIDARIEDADE  3.855729e+06                 11   350520.801818\nPPS            3.463451e+06                 10   346345.112000\nPSC            3.398525e+06                 10   339852.457000\nREDE           6.714933e+05                  2   335746.625000\nPSOL           1.998710e+06                  6   333118.308333\nPSL            2.793127e+06                  9   310347.418889\nPV             1.100695e+06                  4   275173.662500",
      "text/html": "<div>\n<style scoped>\n    .dataframe tbody tr th:only-of-type {\n        vertical-align: middle;\n    }\n\n    .dataframe tbody tr th {\n        vertical-align: top;\n    }\n\n    .dataframe thead th {\n        text-align: right;\n    }\n</style>\n<table border=\"1\" class=\"dataframe\">\n  <thead>\n    <tr style=\"text-align: right;\">\n      <th></th>\n      <th>vlrDocumento</th>\n      <th>txNomeParlamentar</th>\n      <th>media_deputado</th>\n    </tr>\n    <tr>\n      <th>sgPartido</th>\n      <th></th>\n      <th></th>\n      <th></th>\n    </tr>\n  </thead>\n  <tbody>\n    <tr>\n      <th>PPL</th>\n      <td>4.849136e+05</td>\n      <td>1</td>\n      <td>484913.560000</td>\n    </tr>\n    <tr>\n      <th>PTB</th>\n      <td>7.412313e+06</td>\n      <td>16</td>\n      <td>463269.580000</td>\n    </tr>\n    <tr>\n      <th>PROS</th>\n      <td>4.809456e+06</td>\n      <td>11</td>\n      <td>437223.229091</td>\n    </tr>\n    <tr>\n      <th>PT</th>\n      <td>2.657885e+07</td>\n      <td>62</td>\n      <td>428691.181613</td>\n    </tr>\n    <tr>\n      <th>AVANTE</th>\n      <td>2.541253e+06</td>\n      <td>6</td>\n      <td>423542.103333</td>\n    </tr>\n    <tr>\n      <th>PSB</th>\n      <td>1.150624e+07</td>\n      <td>28</td>\n      <td>410937.146429</td>\n    </tr>\n    <tr>\n      <th>PSD</th>\n      <td>1.576786e+07</td>\n      <td>39</td>\n      <td>404304.022821</td>\n    </tr>\n    <tr>\n      <th>PATRI</th>\n      <td>2.014903e+06</td>\n      <td>5</td>\n      <td>402980.550000</td>\n    </tr>\n    <tr>\n      <th>DEM</th>\n      <td>1.791585e+07</td>\n      <td>45</td>\n      <td>398129.974444</td>\n    </tr>\n    <tr>\n      <th>PRB</th>\n      <td>9.046844e+06</td>\n      <td>23</td>\n      <td>393341.028696</td>\n    </tr>\n    <tr>\n      <th>PR</th>\n      <td>1.602908e+07</td>\n      <td>41</td>\n      <td>390953.070488</td>\n    </tr>\n    <tr>\n      <th>MDB</th>\n      <td>2.186256e+07</td>\n      <td>57</td>\n      <td>383553.716842</td>\n    </tr>\n    <tr>\n      <th>PODE</th>\n      <td>7.653522e+06</td>\n      <td>20</td>\n      <td>382676.100500</td>\n    </tr>\n    <tr>\n      <th>PP</th>\n      <td>2.101120e+07</td>\n      <td>55</td>\n      <td>382021.786364</td>\n    </tr>\n    <tr>\n      <th>PCdoB</th>\n      <td>4.917707e+06</td>\n      <td>13</td>\n      <td>378285.156923</td>\n    </tr>\n    <tr>\n      <th>PHS</th>\n      <td>1.882794e+06</td>\n      <td>5</td>\n      <td>376558.706000</td>\n    </tr>\n    <tr>\n      <th>PDT</th>\n      <td>8.856811e+06</td>\n      <td>24</td>\n      <td>369033.783750</td>\n    </tr>\n    <tr>\n      <th>PSDB</th>\n      <td>1.904700e+07</td>\n      <td>52</td>\n      <td>366288.485577</td>\n    </tr>\n    <tr>\n      <th>SOLIDARIEDADE</th>\n      <td>3.855729e+06</td>\n      <td>11</td>\n      <td>350520.801818</td>\n    </tr>\n    <tr>\n      <th>PPS</th>\n      <td>3.463451e+06</td>\n      <td>10</td>\n      <td>346345.112000</td>\n    </tr>\n    <tr>\n      <th>PSC</th>\n      <td>3.398525e+06</td>\n      <td>10</td>\n      <td>339852.457000</td>\n    </tr>\n    <tr>\n      <th>REDE</th>\n      <td>6.714933e+05</td>\n      <td>2</td>\n      <td>335746.625000</td>\n    </tr>\n    <tr>\n      <th>PSOL</th>\n      <td>1.998710e+06</td>\n      <td>6</td>\n      <td>333118.308333</td>\n    </tr>\n    <tr>\n      <th>PSL</th>\n      <td>2.793127e+06</td>\n      <td>9</td>\n      <td>310347.418889</td>\n    </tr>\n    <tr>\n      <th>PV</th>\n      <td>1.100695e+06</td>\n      <td>4</td>\n      <td>275173.662500</td>\n    </tr>\n  </tbody>\n</table>\n</div>"
     },
     "execution_count": 85,
     "metadata": {},
     "output_type": "execute_result"
    }
   ],
   "source": [
    "df = pd.concat([gasto, partidos], axis=1)\n",
    "df['media_deputado'] = df['vlrDocumento'] / df['txNomeParlamentar']\n",
    "df.sort_values(ascending=False, by='media_deputado')\n",
    "\n"
   ],
   "metadata": {
    "collapsed": false,
    "pycharm": {
     "name": "#%%\n"
    }
   }
  },
  {
   "cell_type": "markdown",
   "source": [
    "### Qual é a média de gastos por deputado"
   ],
   "metadata": {
    "collapsed": false
   }
  },
  {
   "cell_type": "code",
   "execution_count": 86,
   "outputs": [
    {
     "data": {
      "text/plain": "216620880.16000003"
     },
     "execution_count": 86,
     "metadata": {},
     "output_type": "execute_result"
    }
   ],
   "source": [
    "gasto_total = data_2018['vlrDocumento'].sum()\n",
    "gasto_total"
   ],
   "metadata": {
    "collapsed": false,
    "pycharm": {
     "name": "#%%\n"
    }
   }
  },
  {
   "cell_type": "code",
   "execution_count": 87,
   "outputs": [
    {
     "data": {
      "text/plain": "390307.89218018024"
     },
     "execution_count": 87,
     "metadata": {},
     "output_type": "execute_result"
    }
   ],
   "source": [
    "qtd_parlamentares = len(data_2018['txNomeParlamentar'].unique())\n",
    "media = gasto_total / qtd_parlamentares\n",
    "media"
   ],
   "metadata": {
    "collapsed": false,
    "pycharm": {
     "name": "#%%\n"
    }
   }
  },
  {
   "cell_type": "markdown",
   "source": [
    "#### Quais deputados gastam acima da média?"
   ],
   "metadata": {
    "collapsed": false
   }
  },
  {
   "cell_type": "code",
   "execution_count": 88,
   "outputs": [
    {
     "data": {
      "text/plain": "                         vlrDocumento\ntxNomeParlamentar  sgUF              \nARLINDO CHINAGLIA  SP       618776.41\nJHONATAN DE JESUS  RR       561401.20\nZECA CAVALCANTI    PE       557620.91\nJÉSSICA SALES      AC       552221.07\nREMÍDIO MONAI      RR       549233.02\n...                               ...\nAROLDE DE OLIVEIRA RJ       396448.97\nPAULO MAGALHÃES    BA       393131.73\nJOÃO DERLY         RS       392487.06\nLEÔNIDAS CRISTINO  CE       392406.04\nALBERTO FRAGA      DF       392082.94\n\n[358 rows x 1 columns]",
      "text/html": "<div>\n<style scoped>\n    .dataframe tbody tr th:only-of-type {\n        vertical-align: middle;\n    }\n\n    .dataframe tbody tr th {\n        vertical-align: top;\n    }\n\n    .dataframe thead th {\n        text-align: right;\n    }\n</style>\n<table border=\"1\" class=\"dataframe\">\n  <thead>\n    <tr style=\"text-align: right;\">\n      <th></th>\n      <th></th>\n      <th>vlrDocumento</th>\n    </tr>\n    <tr>\n      <th>txNomeParlamentar</th>\n      <th>sgUF</th>\n      <th></th>\n    </tr>\n  </thead>\n  <tbody>\n    <tr>\n      <th>ARLINDO CHINAGLIA</th>\n      <th>SP</th>\n      <td>618776.41</td>\n    </tr>\n    <tr>\n      <th>JHONATAN DE JESUS</th>\n      <th>RR</th>\n      <td>561401.20</td>\n    </tr>\n    <tr>\n      <th>ZECA CAVALCANTI</th>\n      <th>PE</th>\n      <td>557620.91</td>\n    </tr>\n    <tr>\n      <th>JÉSSICA SALES</th>\n      <th>AC</th>\n      <td>552221.07</td>\n    </tr>\n    <tr>\n      <th>REMÍDIO MONAI</th>\n      <th>RR</th>\n      <td>549233.02</td>\n    </tr>\n    <tr>\n      <th>...</th>\n      <th>...</th>\n      <td>...</td>\n    </tr>\n    <tr>\n      <th>AROLDE DE OLIVEIRA</th>\n      <th>RJ</th>\n      <td>396448.97</td>\n    </tr>\n    <tr>\n      <th>PAULO MAGALHÃES</th>\n      <th>BA</th>\n      <td>393131.73</td>\n    </tr>\n    <tr>\n      <th>JOÃO DERLY</th>\n      <th>RS</th>\n      <td>392487.06</td>\n    </tr>\n    <tr>\n      <th>LEÔNIDAS CRISTINO</th>\n      <th>CE</th>\n      <td>392406.04</td>\n    </tr>\n    <tr>\n      <th>ALBERTO FRAGA</th>\n      <th>DF</th>\n      <td>392082.94</td>\n    </tr>\n  </tbody>\n</table>\n<p>358 rows × 1 columns</p>\n</div>"
     },
     "execution_count": 88,
     "metadata": {},
     "output_type": "execute_result"
    }
   ],
   "source": [
    "gasto_dep = data_2018.groupby(['txNomeParlamentar', 'sgUF'])['vlrDocumento'].sum().sort_values(ascending=False)\n",
    "gasto_dep = gasto_dep.to_frame()\n",
    "gasto_dep[gasto_dep['vlrDocumento'] > media]\n",
    "\n",
    "\n"
   ],
   "metadata": {
    "collapsed": false,
    "pycharm": {
     "name": "#%%\n"
    }
   }
  }
 ],
 "metadata": {
  "kernelspec": {
   "display_name": "Python 3",
   "language": "python",
   "name": "python3"
  },
  "language_info": {
   "codemirror_mode": {
    "name": "ipython",
    "version": 2
   },
   "file_extension": ".py",
   "mimetype": "text/x-python",
   "name": "python",
   "nbconvert_exporter": "python",
   "pygments_lexer": "ipython2",
   "version": "2.7.6"
  }
 },
 "nbformat": 4,
 "nbformat_minor": 0
}