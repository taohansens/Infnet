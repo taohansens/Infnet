{
 "cells": [
  {
   "cell_type": "code",
   "execution_count": 58,
   "outputs": [],
   "source": [
    "import pandas as pd\n",
    "import numpy as np"
   ],
   "metadata": {
    "collapsed": false,
    "pycharm": {
     "name": "#%%\n"
    }
   }
  },
  {
   "cell_type": "markdown",
   "source": [
    "#### CSV Original"
   ],
   "metadata": {
    "collapsed": false
   }
  },
  {
   "cell_type": "code",
   "execution_count": 59,
   "outputs": [
    {
     "data": {
      "text/plain": "                                Name Platform  Year_of_Release         Genre  \\\n0                         Wii Sports      Wii           2006.0        Sports   \n1                  Super Mario Bros.      NES           1985.0      Platform   \n2                     Mario Kart Wii      Wii           2008.0        Racing   \n3                  Wii Sports Resort      Wii           2009.0        Sports   \n4           Pokemon Red/Pokemon Blue       GB           1996.0  Role-Playing   \n...                              ...      ...              ...           ...   \n16714  Samurai Warriors: Sanada Maru      PS3           2016.0        Action   \n16715               LMA Manager 2007     X360           2006.0        Sports   \n16716        Haitaka no Psychedelica      PSV           2016.0     Adventure   \n16717               Spirits & Spells      GBA           2003.0      Platform   \n16718            Winning Post 8 2016      PSV           2016.0    Simulation   \n\n          Publisher  NA_Sales  EU_Sales  JP_Sales  Other_Sales  Global_Sales  \\\n0          Nintendo     41.36     28.96      3.77         8.45         82.53   \n1          Nintendo     29.08      3.58      6.81         0.77         40.24   \n2          Nintendo     15.68     12.76      3.79         3.29         35.52   \n3          Nintendo     15.61     10.93      3.28         2.95         32.77   \n4          Nintendo     11.27      8.89     10.22         1.00         31.37   \n...             ...       ...       ...       ...          ...           ...   \n16714    Tecmo Koei      0.00      0.00      0.01         0.00          0.01   \n16715   Codemasters      0.00      0.01      0.00         0.00          0.01   \n16716  Idea Factory      0.00      0.00      0.01         0.00          0.01   \n16717       Wanadoo      0.01      0.00      0.00         0.00          0.01   \n16718    Tecmo Koei      0.00      0.00      0.01         0.00          0.01   \n\n       Critic_Score  Critic_Count User_Score  User_Count Developer Rating  \n0              76.0          51.0          8       322.0  Nintendo      E  \n1               NaN           NaN        NaN         NaN       NaN    NaN  \n2              82.0          73.0        8.3       709.0  Nintendo      E  \n3              80.0          73.0          8       192.0  Nintendo      E  \n4               NaN           NaN        NaN         NaN       NaN    NaN  \n...             ...           ...        ...         ...       ...    ...  \n16714           NaN           NaN        NaN         NaN       NaN    NaN  \n16715           NaN           NaN        NaN         NaN       NaN    NaN  \n16716           NaN           NaN        NaN         NaN       NaN    NaN  \n16717           NaN           NaN        NaN         NaN       NaN    NaN  \n16718           NaN           NaN        NaN         NaN       NaN    NaN  \n\n[16719 rows x 16 columns]",
      "text/html": "<div>\n<style scoped>\n    .dataframe tbody tr th:only-of-type {\n        vertical-align: middle;\n    }\n\n    .dataframe tbody tr th {\n        vertical-align: top;\n    }\n\n    .dataframe thead th {\n        text-align: right;\n    }\n</style>\n<table border=\"1\" class=\"dataframe\">\n  <thead>\n    <tr style=\"text-align: right;\">\n      <th></th>\n      <th>Name</th>\n      <th>Platform</th>\n      <th>Year_of_Release</th>\n      <th>Genre</th>\n      <th>Publisher</th>\n      <th>NA_Sales</th>\n      <th>EU_Sales</th>\n      <th>JP_Sales</th>\n      <th>Other_Sales</th>\n      <th>Global_Sales</th>\n      <th>Critic_Score</th>\n      <th>Critic_Count</th>\n      <th>User_Score</th>\n      <th>User_Count</th>\n      <th>Developer</th>\n      <th>Rating</th>\n    </tr>\n  </thead>\n  <tbody>\n    <tr>\n      <th>0</th>\n      <td>Wii Sports</td>\n      <td>Wii</td>\n      <td>2006.0</td>\n      <td>Sports</td>\n      <td>Nintendo</td>\n      <td>41.36</td>\n      <td>28.96</td>\n      <td>3.77</td>\n      <td>8.45</td>\n      <td>82.53</td>\n      <td>76.0</td>\n      <td>51.0</td>\n      <td>8</td>\n      <td>322.0</td>\n      <td>Nintendo</td>\n      <td>E</td>\n    </tr>\n    <tr>\n      <th>1</th>\n      <td>Super Mario Bros.</td>\n      <td>NES</td>\n      <td>1985.0</td>\n      <td>Platform</td>\n      <td>Nintendo</td>\n      <td>29.08</td>\n      <td>3.58</td>\n      <td>6.81</td>\n      <td>0.77</td>\n      <td>40.24</td>\n      <td>NaN</td>\n      <td>NaN</td>\n      <td>NaN</td>\n      <td>NaN</td>\n      <td>NaN</td>\n      <td>NaN</td>\n    </tr>\n    <tr>\n      <th>2</th>\n      <td>Mario Kart Wii</td>\n      <td>Wii</td>\n      <td>2008.0</td>\n      <td>Racing</td>\n      <td>Nintendo</td>\n      <td>15.68</td>\n      <td>12.76</td>\n      <td>3.79</td>\n      <td>3.29</td>\n      <td>35.52</td>\n      <td>82.0</td>\n      <td>73.0</td>\n      <td>8.3</td>\n      <td>709.0</td>\n      <td>Nintendo</td>\n      <td>E</td>\n    </tr>\n    <tr>\n      <th>3</th>\n      <td>Wii Sports Resort</td>\n      <td>Wii</td>\n      <td>2009.0</td>\n      <td>Sports</td>\n      <td>Nintendo</td>\n      <td>15.61</td>\n      <td>10.93</td>\n      <td>3.28</td>\n      <td>2.95</td>\n      <td>32.77</td>\n      <td>80.0</td>\n      <td>73.0</td>\n      <td>8</td>\n      <td>192.0</td>\n      <td>Nintendo</td>\n      <td>E</td>\n    </tr>\n    <tr>\n      <th>4</th>\n      <td>Pokemon Red/Pokemon Blue</td>\n      <td>GB</td>\n      <td>1996.0</td>\n      <td>Role-Playing</td>\n      <td>Nintendo</td>\n      <td>11.27</td>\n      <td>8.89</td>\n      <td>10.22</td>\n      <td>1.00</td>\n      <td>31.37</td>\n      <td>NaN</td>\n      <td>NaN</td>\n      <td>NaN</td>\n      <td>NaN</td>\n      <td>NaN</td>\n      <td>NaN</td>\n    </tr>\n    <tr>\n      <th>...</th>\n      <td>...</td>\n      <td>...</td>\n      <td>...</td>\n      <td>...</td>\n      <td>...</td>\n      <td>...</td>\n      <td>...</td>\n      <td>...</td>\n      <td>...</td>\n      <td>...</td>\n      <td>...</td>\n      <td>...</td>\n      <td>...</td>\n      <td>...</td>\n      <td>...</td>\n      <td>...</td>\n    </tr>\n    <tr>\n      <th>16714</th>\n      <td>Samurai Warriors: Sanada Maru</td>\n      <td>PS3</td>\n      <td>2016.0</td>\n      <td>Action</td>\n      <td>Tecmo Koei</td>\n      <td>0.00</td>\n      <td>0.00</td>\n      <td>0.01</td>\n      <td>0.00</td>\n      <td>0.01</td>\n      <td>NaN</td>\n      <td>NaN</td>\n      <td>NaN</td>\n      <td>NaN</td>\n      <td>NaN</td>\n      <td>NaN</td>\n    </tr>\n    <tr>\n      <th>16715</th>\n      <td>LMA Manager 2007</td>\n      <td>X360</td>\n      <td>2006.0</td>\n      <td>Sports</td>\n      <td>Codemasters</td>\n      <td>0.00</td>\n      <td>0.01</td>\n      <td>0.00</td>\n      <td>0.00</td>\n      <td>0.01</td>\n      <td>NaN</td>\n      <td>NaN</td>\n      <td>NaN</td>\n      <td>NaN</td>\n      <td>NaN</td>\n      <td>NaN</td>\n    </tr>\n    <tr>\n      <th>16716</th>\n      <td>Haitaka no Psychedelica</td>\n      <td>PSV</td>\n      <td>2016.0</td>\n      <td>Adventure</td>\n      <td>Idea Factory</td>\n      <td>0.00</td>\n      <td>0.00</td>\n      <td>0.01</td>\n      <td>0.00</td>\n      <td>0.01</td>\n      <td>NaN</td>\n      <td>NaN</td>\n      <td>NaN</td>\n      <td>NaN</td>\n      <td>NaN</td>\n      <td>NaN</td>\n    </tr>\n    <tr>\n      <th>16717</th>\n      <td>Spirits &amp; Spells</td>\n      <td>GBA</td>\n      <td>2003.0</td>\n      <td>Platform</td>\n      <td>Wanadoo</td>\n      <td>0.01</td>\n      <td>0.00</td>\n      <td>0.00</td>\n      <td>0.00</td>\n      <td>0.01</td>\n      <td>NaN</td>\n      <td>NaN</td>\n      <td>NaN</td>\n      <td>NaN</td>\n      <td>NaN</td>\n      <td>NaN</td>\n    </tr>\n    <tr>\n      <th>16718</th>\n      <td>Winning Post 8 2016</td>\n      <td>PSV</td>\n      <td>2016.0</td>\n      <td>Simulation</td>\n      <td>Tecmo Koei</td>\n      <td>0.00</td>\n      <td>0.00</td>\n      <td>0.01</td>\n      <td>0.00</td>\n      <td>0.01</td>\n      <td>NaN</td>\n      <td>NaN</td>\n      <td>NaN</td>\n      <td>NaN</td>\n      <td>NaN</td>\n      <td>NaN</td>\n    </tr>\n  </tbody>\n</table>\n<p>16719 rows × 16 columns</p>\n</div>"
     },
     "execution_count": 59,
     "metadata": {},
     "output_type": "execute_result"
    }
   ],
   "source": [
    "url = \"https://sites.google.com/site/dr2fundamentospython/arquivos/Video_Games_Sales_as_at_22_Dec_2016.csv\"\n",
    "\n",
    "dataframe = pd.read_csv(url, sep=',')\n",
    "dataframe"
   ],
   "metadata": {
    "collapsed": false,
    "pycharm": {
     "name": "#%%\n"
    }
   }
  },
  {
   "cell_type": "markdown",
   "source": [
    "#### Alternativa A: 3 maiores marcas e quantidade de jogos de cada."
   ],
   "metadata": {
    "collapsed": false
   }
  },
  {
   "cell_type": "code",
   "execution_count": 60,
   "outputs": [
    {
     "data": {
      "text/plain": "Publisher\nActivision         538\nUbisoft            360\nElectronic Arts    344\nName: Publisher, dtype: int64"
     },
     "execution_count": 60,
     "metadata": {},
     "output_type": "execute_result"
    }
   ],
   "source": [
    "frame_genre = dataframe[(dataframe['Genre'] == 'Action') | (dataframe['Genre'] == 'Shooter') | (dataframe['Genre'] == 'Platform')]\n",
    "frame_genre.groupby(['Publisher'])['Publisher'].count().sort_values(ascending=False).head(3)"
   ],
   "metadata": {
    "collapsed": false,
    "pycharm": {
     "name": "#%%\n"
    }
   }
  },
  {
   "cell_type": "markdown",
   "source": [
    "### Alternativa B: Quais são as três marcas que mais venderam os três gêneros combinados? Indique também o total de vendas de cada marca."
   ],
   "metadata": {
    "collapsed": false
   }
  },
  {
   "cell_type": "code",
   "execution_count": 61,
   "outputs": [
    {
     "data": {
      "text/plain": "Publisher\nNintendo           1788.81\nElectronic Arts    1116.96\nActivision          731.16\nName: Global_Sales, dtype: float64"
     },
     "execution_count": 61,
     "metadata": {},
     "output_type": "execute_result"
    }
   ],
   "source": [
    "# Dataframe com a quantidade total de vendas, agrupado por 'Publisher'\n",
    "global_sales = dataframe.groupby(['Publisher'])['Global_Sales'].sum().sort_values(ascending=False)\n",
    "global_sales.head(3)"
   ],
   "metadata": {
    "collapsed": false,
    "pycharm": {
     "name": "#%%\n"
    }
   }
  },
  {
   "cell_type": "markdown",
   "source": [
    "### Alternativa C: Qual é a marca com mais publicações em cada um dos gêneros nos últimos dez anos no Japão? Indique também o número total de jogos dela.\n"
   ],
   "metadata": {
    "collapsed": false,
    "pycharm": {
     "name": "#%% md\n"
    }
   }
  },
  {
   "cell_type": "code",
   "execution_count": 62,
   "outputs": [
    {
     "data": {
      "text/plain": "Publisher\nNamco Bandai Games    171\nName: Publisher, dtype: int64"
     },
     "execution_count": 62,
     "metadata": {},
     "output_type": "execute_result"
    }
   ],
   "source": [
    "# Publicações de jogos, não vendas.\n",
    "# Gênero Ação\n",
    "frame_japan_action  = dataframe[(dataframe['Year_of_Release'] >= 2010) & (dataframe['Genre'] == 'Action')]\n",
    "d1 = frame_japan_action.groupby(['Publisher'])['Publisher'].count().sort_values(ascending=False)\n",
    "\n",
    "d1.head(1)"
   ],
   "metadata": {
    "collapsed": false,
    "pycharm": {
     "name": "#%%\n"
    }
   }
  },
  {
   "cell_type": "code",
   "execution_count": 63,
   "outputs": [
    {
     "data": {
      "text/plain": "Publisher\nActivision    71\nName: Publisher, dtype: int64"
     },
     "execution_count": 63,
     "metadata": {},
     "output_type": "execute_result"
    }
   ],
   "source": [
    "# Gênero Shooter\n",
    "frame_japan_shooter  = dataframe[(dataframe['Year_of_Release'] >= 2010) & (dataframe['Genre'] == 'Shooter')]\n",
    "d2 = frame_japan_shooter.groupby(['Publisher'])['Publisher'].count().sort_values(ascending=False)\n",
    "\n",
    "d2.head(1)"
   ],
   "metadata": {
    "collapsed": false,
    "pycharm": {
     "name": "#%%\n"
    }
   }
  },
  {
   "cell_type": "code",
   "execution_count": 64,
   "outputs": [
    {
     "data": {
      "text/plain": "Publisher\nNintendo    21\nName: Publisher, dtype: int64"
     },
     "execution_count": 64,
     "metadata": {},
     "output_type": "execute_result"
    }
   ],
   "source": [
    "# Gênero Plataforma\n",
    "frame_japan_platform  = dataframe[(dataframe['Year_of_Release'] >= 2010) & (dataframe['Genre'] == 'Platform')]\n",
    "d3 = frame_japan_platform.groupby(['Publisher'])['Publisher'].count().sort_values(ascending=False)\n",
    "\n",
    "d3.head(1)\n"
   ],
   "metadata": {
    "collapsed": false,
    "pycharm": {
     "name": "#%%\n"
    }
   }
  },
  {
   "cell_type": "markdown",
   "source": [
    "### Alternativa D: Qual foi a marca que mais vendeu em cada um desses gêneros nos últimos dez anos, no Japão? Indique também o total de vendas dela."
   ],
   "metadata": {
    "collapsed": false
   }
  },
  {
   "cell_type": "code",
   "execution_count": 65,
   "outputs": [
    {
     "data": {
      "text/plain": "Publisher\nNamco Bandai Games    13.11\nName: JP_Sales, dtype: float64"
     },
     "execution_count": 65,
     "metadata": {},
     "output_type": "execute_result"
    }
   ],
   "source": [
    "# Gênero Ação\n",
    "sales_japan_action  = dataframe[(dataframe['Year_of_Release'] >= 2010) & (dataframe['Genre'] == 'Action')]\n",
    "ds1 = sales_japan_action.groupby(['Publisher'])['JP_Sales'].sum().sort_values(ascending=False)\n",
    "\n",
    "ds1.head(1)"
   ],
   "metadata": {
    "collapsed": false,
    "pycharm": {
     "name": "#%%\n"
    }
   }
  },
  {
   "cell_type": "code",
   "execution_count": 66,
   "outputs": [
    {
     "data": {
      "text/plain": "Publisher\nActivision    3.85\nName: JP_Sales, dtype: float64"
     },
     "execution_count": 66,
     "metadata": {},
     "output_type": "execute_result"
    }
   ],
   "source": [
    "# Gênero Shooter\n",
    "sales_japan_shooter  = dataframe[(dataframe['Year_of_Release'] >= 2010) & (dataframe['Genre'] == 'Shooter')]\n",
    "ds2 = sales_japan_shooter.groupby(['Publisher'])['JP_Sales'].sum().sort_values(ascending=False)\n",
    "\n",
    "ds2.head(1)"
   ],
   "metadata": {
    "collapsed": false,
    "pycharm": {
     "name": "#%%\n"
    }
   }
  },
  {
   "cell_type": "code",
   "execution_count": 67,
   "outputs": [
    {
     "data": {
      "text/plain": "Publisher\nNintendo    14.44\nName: JP_Sales, dtype: float64"
     },
     "execution_count": 67,
     "metadata": {},
     "output_type": "execute_result"
    }
   ],
   "source": [
    "# Gênero Plataforma\n",
    "sales_japan_platform  = dataframe[(dataframe['Year_of_Release'] >= 2010) & (dataframe['Genre'] == 'Platform')]\n",
    "ds3 = sales_japan_platform.groupby(['Publisher'])['JP_Sales'].sum().sort_values(ascending=False)\n",
    "\n",
    "ds3.head(1)\n"
   ],
   "metadata": {
    "collapsed": false,
    "pycharm": {
     "name": "#%%\n"
    }
   }
  }
 ],
 "metadata": {
  "kernelspec": {
   "display_name": "Python 3",
   "language": "python",
   "name": "python3"
  },
  "language_info": {
   "codemirror_mode": {
    "name": "ipython",
    "version": 2
   },
   "file_extension": ".py",
   "mimetype": "text/x-python",
   "name": "python",
   "nbconvert_exporter": "python",
   "pygments_lexer": "ipython2",
   "version": "2.7.6"
  },
  "pycharm": {
   "stem_cell": {
    "cell_type": "raw",
    "source": [
     "\n"
    ],
    "metadata": {
     "collapsed": false
    }
   }
  }
 },
 "nbformat": 4,
 "nbformat_minor": 0
}