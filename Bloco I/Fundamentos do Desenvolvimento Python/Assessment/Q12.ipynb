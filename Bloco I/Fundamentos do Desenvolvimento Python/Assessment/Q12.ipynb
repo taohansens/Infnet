{
 "cells": [
  {
   "cell_type": "markdown",
   "source": [
    "#### Q12. Obtenha, usando requests ou urllib, a página HTML https://fgopassos.github.io/pagina_exemplo/estadosCentroOeste.html dentro de seu programa em Python e faça:\n",
    "<br>\n",
    "\n",
    "#### A) Imprima o conteúdo referente apenas à tabela apresentada na página indicada."
   ],
   "metadata": {
    "collapsed": false
   }
  },
  {
   "cell_type": "code",
   "execution_count": 170,
   "metadata": {
    "collapsed": true,
    "pycharm": {
     "name": "#%%\n"
    }
   },
   "outputs": [],
   "source": [
    "import requests\n",
    "from bs4 import BeautifulSoup\n",
    "import pandas as pd\n",
    "\n",
    "# Para remover o index do dataframe (alternativa A)\n",
    "from IPython.display import HTML"
   ]
  },
  {
   "cell_type": "code",
   "execution_count": 171,
   "outputs": [],
   "source": [
    "url = \"https://fgopassos.github.io/pagina_exemplo/estadosCentroOeste.html\"\n",
    "requisicao = requests.get(url)\n",
    "\n",
    "# Testando se a conexão funcionou.\n",
    "if requisicao.status_code != 200:\n",
    "  requisicao.raise_for_status()\n",
    "\n",
    "html = requisicao.text\n",
    "soup = BeautifulSoup(html, \"html\")"
   ],
   "metadata": {
    "collapsed": false,
    "pycharm": {
     "name": "#%%\n"
    }
   }
  },
  {
   "cell_type": "code",
   "execution_count": 172,
   "outputs": [],
   "source": [
    "# o objeto recebido possui \"\\n\" como quebra de linha,\n",
    "# substituido por // e removido os 2 primeiros e últimos elementos trata_dados\n",
    "# da string, e depois feito o split.\n",
    "def trata_dados(obj):\n",
    "    dado_tratado = obj.text.replace('\\n','//')[2:-2].split('//')\n",
    "    return dado_tratado\n",
    "\n",
    "titulo = []\n",
    "linhas = []\n",
    "dicionario = []\n",
    "for div_table in soup.find_all('div', class_='tabela'):\n",
    "    for div_titulo in div_table.find_all('div', class_='titulo'):\n",
    "        # Separa o título\n",
    "        titulo.append(trata_dados(div_titulo))\n",
    "\n",
    "        for div_linha in div_table.find_all('div', class_='linha'):\n",
    "            # Separam as linhas e executa o metodo trata_dados\n",
    "            linhas.append(trata_dados(div_linha))\n"
   ],
   "metadata": {
    "collapsed": false,
    "pycharm": {
     "name": "#%%\n"
    }
   }
  },
  {
   "cell_type": "markdown",
   "source": [
    "#### Resposta Alternativa A:"
   ],
   "metadata": {
    "collapsed": false
   }
  },
  {
   "cell_type": "code",
   "execution_count": 173,
   "outputs": [
    {
     "data": {
      "text/plain": "<IPython.core.display.HTML object>",
      "text/html": "<table border=\"1\" class=\"dataframe\">\n  <thead>\n    <tr>\n      <th>Sigla</th>\n      <th>Nome</th>\n      <th>Capital</th>\n      <th>População</th>\n      <th>Área</th>\n    </tr>\n  </thead>\n  <tbody>\n    <tr>\n      <td>DF</td>\n      <td>Distrito Federal</td>\n      <td>Brasília</td>\n      <td>2977216</td>\n      <td>5779,999</td>\n    </tr>\n    <tr>\n      <td>GO</td>\n      <td>Goiás</td>\n      <td>Goiânia</td>\n      <td>6730848</td>\n      <td>340111,783</td>\n    </tr>\n    <tr>\n      <td>MT</td>\n      <td>Mato Grosso</td>\n      <td>Cuiabá</td>\n      <td>3305531</td>\n      <td>903378,292</td>\n    </tr>\n    <tr>\n      <td>MS</td>\n      <td>Mato Grosso do Sul</td>\n      <td>Campo Grande</td>\n      <td>2651235</td>\n      <td>357145,532</td>\n    </tr>\n  </tbody>\n</table>"
     },
     "execution_count": 173,
     "metadata": {},
     "output_type": "execute_result"
    }
   ],
   "source": [
    "dataframe = pd.DataFrame(data=linhas, columns=titulo)\n",
    "HTML(dataframe.to_html(index=False))"
   ],
   "metadata": {
    "collapsed": false,
    "pycharm": {
     "name": "#%%\n"
    }
   }
  },
  {
   "cell_type": "markdown",
   "source": [
    "<br>\n",
    "\n",
    "#### B) Escreva um programa que obtenha do usuário uma sigla do estado da região Centro-Oeste e apresenta suas informações correspondentes na tabela. O resultado deve apresentar apenas o conteúdo, sem formatação. Ou seja, as tags não devem aparecer. Não esqueça de checar se a sigla pertence à região.\n",
    "<br>\n",
    "\n",
    "##### Resposta:"
   ],
   "metadata": {
    "collapsed": false
   }
  },
  {
   "cell_type": "code",
   "execution_count": 197,
   "outputs": [
    {
     "name": "stdout",
     "output_type": "stream",
     "text": [
      "Estado não encontrado...\n"
     ]
    }
   ],
   "source": [
    "sigla = input(\"Digite uma região: \")\n",
    "\n",
    "# Como já havia separado os dados em listas:\n",
    "\n",
    "encontrado = False\n",
    "for linha in linhas:\n",
    "    if sigla.upper() in linha[0]:\n",
    "        encontrado = True\n",
    "        print(linha)\n",
    "        break\n",
    "    else:\n",
    "        encontrado = False\n",
    "\n",
    "if not encontrado:\n",
    "    print(\"Estado não encontrado...\")\n",
    "    "
   ],
   "metadata": {
    "collapsed": false,
    "pycharm": {
     "name": "#%%\n"
    }
   }
  }
 ],
 "metadata": {
  "kernelspec": {
   "display_name": "Python 3",
   "language": "python",
   "name": "python3"
  },
  "language_info": {
   "codemirror_mode": {
    "name": "ipython",
    "version": 2
   },
   "file_extension": ".py",
   "mimetype": "text/x-python",
   "name": "python",
   "nbconvert_exporter": "python",
   "pygments_lexer": "ipython2",
   "version": "2.7.6"
  }
 },
 "nbformat": 4,
 "nbformat_minor": 0
}