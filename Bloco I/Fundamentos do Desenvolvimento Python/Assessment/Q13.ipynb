{
 "cells": [
  {
   "cell_type": "markdown",
   "source": [
    "#### Q13. Obtenha, usando requests ou urllib, o conteúdo sobre as PyLadies no link http://brasil.pyladies.com/about e:\n",
    "\n",
    "##### A) Conte todas as palavras no corpo da página, e indique quais palavras apareceram apenas uma vez."
   ],
   "metadata": {
    "collapsed": false
   }
  },
  {
   "cell_type": "code",
   "execution_count": 1,
   "metadata": {
    "collapsed": true,
    "pycharm": {
     "name": "#%%\n"
    }
   },
   "outputs": [],
   "source": [
    "import requests\n",
    "from bs4 import BeautifulSoup\n"
   ]
  },
  {
   "cell_type": "code",
   "execution_count": 5,
   "outputs": [],
   "source": [
    "url = \"http://brasil.pyladies.com/about\"\n",
    "requisicao = requests.get(url)\n",
    "\n",
    "# Testando se a conexão funcionou.\n",
    "if requisicao.status_code != 200:\n",
    "  requisicao.raise_for_status()\n",
    "\n",
    "requisicao.encoding = 'utf-8'\n",
    "html = requisicao.text"
   ],
   "metadata": {
    "collapsed": false,
    "pycharm": {
     "name": "#%%\n"
    }
   }
  },
  {
   "cell_type": "code",
   "execution_count": 6,
   "outputs": [],
   "source": [
    "soup = BeautifulSoup(html, 'html5lib')"
   ],
   "metadata": {
    "collapsed": false,
    "pycharm": {
     "name": "#%%\n"
    }
   }
  },
  {
   "cell_type": "code",
   "execution_count": 8,
   "outputs": [],
   "source": [
    "todas_palavras = []\n",
    "\n",
    "for p_texto in soup.find_all('p', class_='about-text'):\n",
    "    todas_palavras.append(str(p_texto))"
   ],
   "metadata": {
    "collapsed": false,
    "pycharm": {
     "name": "#%%\n"
    }
   }
  }
 ],
 "metadata": {
  "kernelspec": {
   "display_name": "Python 3",
   "language": "python",
   "name": "python3"
  },
  "language_info": {
   "codemirror_mode": {
    "name": "ipython",
    "version": 2
   },
   "file_extension": ".py",
   "mimetype": "text/x-python",
   "name": "python",
   "nbconvert_exporter": "python",
   "pygments_lexer": "ipython2",
   "version": "2.7.6"
  }
 },
 "nbformat": 4,
 "nbformat_minor": 0
}