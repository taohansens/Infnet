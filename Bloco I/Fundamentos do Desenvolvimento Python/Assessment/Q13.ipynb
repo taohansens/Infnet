{
 "cells": [
  {
   "cell_type": "markdown",
   "source": [
    "#### Q13. Obtenha, usando requests ou urllib, o conteúdo sobre as PyLadies no link http://brasil.pyladies.com/about e:\n",
    "\n",
    "##### A) Conte todas as palavras no corpo da página, e indique quais palavras apareceram apenas uma vez.\n",
    "##### B) Conte quantas vezes apareceu a palavra ladies no conteúdo da página"
   ],
   "metadata": {
    "collapsed": false
   }
  },
  {
   "cell_type": "code",
   "execution_count": 67,
   "metadata": {
    "collapsed": true,
    "pycharm": {
     "name": "#%%\n"
    }
   },
   "outputs": [],
   "source": [
    "import re\n",
    "import requests\n",
    "from bs4 import BeautifulSoup\n"
   ]
  },
  {
   "cell_type": "code",
   "execution_count": 68,
   "outputs": [],
   "source": [
    "url = \"http://brasil.pyladies.com/about\"\n",
    "requisicao = requests.get(url)\n",
    "\n",
    "# Testando se a conexão funcionou.\n",
    "if requisicao.status_code != 200:\n",
    "  requisicao.raise_for_status()\n",
    "\n",
    "requisicao.encoding = 'utf-8'\n",
    "html = requisicao.text"
   ],
   "metadata": {
    "collapsed": false,
    "pycharm": {
     "name": "#%%\n"
    }
   }
  },
  {
   "cell_type": "code",
   "execution_count": 69,
   "outputs": [],
   "source": [
    "soup = BeautifulSoup(html, 'html5lib')"
   ],
   "metadata": {
    "collapsed": false,
    "pycharm": {
     "name": "#%%\n"
    }
   }
  },
  {
   "cell_type": "code",
   "execution_count": 70,
   "outputs": [],
   "source": [
    "todas_palavras = []\n",
    "\n",
    "for p_texto in soup.find_all('p', class_='about-text'):\n",
    "    todas_palavras.append(p_texto.get_text().replace('\\n', \"\").split())"
   ],
   "metadata": {
    "collapsed": false,
    "pycharm": {
     "name": "#%%\n"
    }
   }
  },
  {
   "cell_type": "code",
   "execution_count": 71,
   "outputs": [],
   "source": [
    "converter_listas = []\n",
    "for listas in todas_palavras:\n",
    "    converter_listas += listas\n",
    "\n",
    "dicionario = {}\n",
    "for palavra in converter_listas:\n",
    "    string_nova = re.sub(u'[^a-zA-Z0-9àáéíóúÁÉÍÓÚâêîôÂÊÎÔãõÃÕçÇ: ]', '', palavra).lower()\n",
    "\n",
    "    if string_nova in dicionario:\n",
    "        dicionario[string_nova] += 1\n",
    "    else:\n",
    "        dicionario[string_nova] = 1"
   ],
   "metadata": {
    "collapsed": false,
    "pycharm": {
     "name": "#%%\n"
    }
   }
  },
  {
   "cell_type": "markdown",
   "source": [
    "#### Resposta (A)"
   ],
   "metadata": {
    "collapsed": false
   }
  },
  {
   "cell_type": "code",
   "execution_count": 72,
   "outputs": [
    {
     "name": "stdout",
     "output_type": "stream",
     "text": [
      "Palavras que aparecem apenas uma vez:\n",
      "pyladies\n",
      "comunidade\n",
      "mundial\n",
      "trazida\n",
      "ao\n",
      "instigar\n",
      "mulheres\n",
      "entrarem\n",
      "na\n",
      "tecnológica\n",
      "mudar\n",
      "essa\n",
      "realidade\n",
      "garotas\n",
      "rica\n",
      "fantástica\n",
      "como\n",
      "computação\n",
      "olhe\n",
      "temos\n",
      "muita\n",
      "história\n",
      "nesse\n",
      "campo\n",
      "viu\n",
      "nós\n",
      "percebemos\n",
      "haviam\n",
      "motivos\n",
      "sermos\n",
      "salas\n",
      "cursos\n",
      "universitários\n",
      "técnicos\n",
      "informática\n",
      "resolvemos\n",
      "organizar\n",
      "dar\n",
      "jeitinho\n",
      "nisso\n",
      "encontramos\n",
      "outras\n",
      "reuniam\n",
      "nome\n",
      "da\n",
      "programação\n",
      "falavam\n",
      "abstração\n",
      "jeito\n",
      "sabem\n",
      "falar\n",
      "mostrar\n",
      "às\n",
      "há\n",
      "limites\n",
      "sua\n",
      "capacidade\n",
      "intelectual\n",
      "delas\n",
      "escrever\n",
      "façam\n",
      "isso\n",
      "desenvolver\n",
      "super\n",
      "sistemas\n",
      "embarcados\n",
      "desenvolvam\n",
      "querem\n",
      "brincar\n",
      "fazendo\n",
      "algumas\n",
      "script\n",
      "brinquem\n",
      "revolucionar\n",
      "mesmo\n",
      "sem\n",
      "ter\n",
      "seu\n",
      "fonte\n",
      "revolucionem\n",
      "por\n",
      "vocês\n",
      "são\n",
      "capazes\n",
      "segregar\n",
      "contrário\n",
      "criar\n",
      "ambiente\n",
      "sejam\n",
      "atraídas\n",
      "pela\n",
      "elas\n",
      "vejam\n",
      "pensem\n",
      "eu\n",
      "estar\n",
      "aí\n",
      "participar\n",
      "dojo\n",
      "muito\n",
      "legal\n",
      "experiência\n",
      "repetir\n",
      "vezes\n",
      "além\n",
      "aprender\n",
      "forma\n",
      "bem\n",
      "diferente\n",
      "rápida\n",
      "pude\n",
      "amizades\n",
      "conhecer\n",
      "melhor\n",
      "esse\n",
      "grande\n",
      "divertido\n",
      "sara\n",
      "maria\n",
      "Quantidade de palavras: 119\n"
     ]
    }
   ],
   "source": [
    "cont = 0\n",
    "print(\"Palavras que aparecem apenas uma vez:\")\n",
    "for palavra, qtd in dicionario.items():\n",
    "    if qtd == 1:\n",
    "        cont += 1\n",
    "        print(palavra)\n",
    "print(\"Quantidade de palavras: {}\".format(cont))\n"
   ],
   "metadata": {
    "collapsed": false,
    "pycharm": {
     "name": "#%%\n"
    }
   }
  },
  {
   "cell_type": "markdown",
   "source": [
    "#### Resposta (B) Qauntas vezes apareceu a palavra ladies no conteúdo da página:\n"
   ],
   "metadata": {
    "collapsed": false
   }
  },
  {
   "cell_type": "code",
   "execution_count": 73,
   "outputs": [
    {
     "name": "stdout",
     "output_type": "stream",
     "text": [
      "Quantidade de vezes que apareceu a palavra ladies: 2\n"
     ]
    }
   ],
   "source": [
    "print(\"Quantidade de vezes que apareceu a palavra ladies: {}\".format(dicionario.get(\"ladies\")))"
   ],
   "metadata": {
    "collapsed": false,
    "pycharm": {
     "name": "#%%\n"
    }
   }
  }
 ],
 "metadata": {
  "kernelspec": {
   "display_name": "Python 3",
   "language": "python",
   "name": "python3"
  },
  "language_info": {
   "codemirror_mode": {
    "name": "ipython",
    "version": 2
   },
   "file_extension": ".py",
   "mimetype": "text/x-python",
   "name": "python",
   "nbconvert_exporter": "python",
   "pygments_lexer": "ipython2",
   "version": "2.7.6"
  }
 },
 "nbformat": 4,
 "nbformat_minor": 0
}