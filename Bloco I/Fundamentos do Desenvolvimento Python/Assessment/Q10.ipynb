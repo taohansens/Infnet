{
 "cells": [
  {
   "cell_type": "markdown",
   "source": [
    "##### Q10 . Obtenha, usando requests ou urllib, dentro de seu programa em Python, o csv do link: https://sites.google.com/site/dr2fundamentospython/arquivos/Winter_Olympics_Medals.csv E:\n",
    "##### A) Dentre os seguintes países nórdicos: Suécia, Dinamarca e Noruega, verifique: No século XXI (a partir de 2001), qual foi o maior medalhista de ouro, considerando apenas as seguintes modalidades:\n",
    "- Curling\n",
    "- Patinação no gelo (skating)\n",
    "- Esqui (skiing)\n",
    "- hóquei sobre o gelo (ice hockey)\n",
    "\n",
    "##### B) Para cada esporte, considere todas as modalidades, tanto no masculino quanto no feminino. Sua resposta deve imprimir um relatório mostrando o total de medalhas de cada um dos países e em que esporte, ano, cidade e gênero (masculino ou feminino) cada medalha foi obtida.\n",
    "\n"
   ],
   "metadata": {
    "collapsed": false
   }
  },
  {
   "cell_type": "markdown",
   "source": [
    "## (Resposta A)\n",
    "##### Países Suécia = SWE, Dinamarca = DEN, Noruega = NOR"
   ],
   "metadata": {
    "collapsed": false,
    "pycharm": {
     "name": "#%% md\n"
    }
   }
  },
  {
   "cell_type": "code",
   "execution_count": 1,
   "outputs": [],
   "source": [
    "import pandas as pd"
   ],
   "metadata": {
    "collapsed": false,
    "pycharm": {
     "name": "#%%\n"
    }
   }
  },
  {
   "cell_type": "code",
   "execution_count": 2,
   "outputs": [],
   "source": [
    "dt_frame = pd.read_csv('https://sites.google.com/site/dr2fundamentospython/arquivos/Winter_Olympics_Medals.csv', sep=',')"
   ],
   "metadata": {
    "collapsed": false,
    "pycharm": {
     "name": "#%%\n"
    }
   }
  },
  {
   "cell_type": "code",
   "execution_count": 3,
   "outputs": [],
   "source": [
    "dt_paises = dt_frame[(dt_frame['NOC'] == 'SWE') | (dt_frame['NOC'] == 'DEN') | (dt_frame['NOC'] == 'NOR')]\n",
    "dt_filtra_ano = dt_paises[(dt_paises['Year'] > 2000)]\n",
    "dt_filtrado_esportes = dt_filtra_ano[(dt_filtra_ano['Sport'] == 'Curling') | (dt_filtra_ano['Sport'] == 'Skating') | (dt_filtra_ano['Sport'] == 'Skiing') | (dt_filtra_ano['Sport'] == 'Ice Hockey')]"
   ],
   "metadata": {
    "collapsed": false,
    "pycharm": {
     "name": "#%%\n"
    }
   }
  },
  {
   "cell_type": "markdown",
   "source": [
    "### Curling:\n",
    "##### Empate entre Suécia e Noruega, 1 Medalha de ouro  cada."
   ],
   "metadata": {
    "collapsed": false
   }
  },
  {
   "cell_type": "code",
   "execution_count": 4,
   "outputs": [
    {
     "data": {
      "text/plain": "NOC\nNOR    1\nSWE    1\nName: NOC, dtype: int64"
     },
     "execution_count": 4,
     "metadata": {},
     "output_type": "execute_result"
    }
   ],
   "source": [
    "dt_curling = dt_filtrado_esportes[(dt_filtrado_esportes['Sport'] == 'Curling') & (dt_filtrado_esportes['Medal'] == 'Gold')]\n",
    "dt_curling.groupby(['NOC'])['NOC'].count()\n"
   ],
   "metadata": {
    "collapsed": false,
    "pycharm": {
     "name": "#%%\n"
    }
   }
  },
  {
   "cell_type": "markdown",
   "source": [
    "=======================\n",
    "### Skating:\n",
    "##### Sem vencedores"
   ],
   "metadata": {
    "collapsed": false
   }
  },
  {
   "cell_type": "code",
   "execution_count": 5,
   "outputs": [
    {
     "data": {
      "text/plain": "Series([], Name: NOC, dtype: int64)"
     },
     "execution_count": 5,
     "metadata": {},
     "output_type": "execute_result"
    }
   ],
   "source": [
    "dt_skating = dt_filtrado_esportes[(dt_filtrado_esportes['Sport'] == 'Skating') & (dt_filtrado_esportes['Medal'] == 'Gold')]\n",
    "dt_skating.groupby(['NOC'])['NOC'].count()"
   ],
   "metadata": {
    "collapsed": false,
    "pycharm": {
     "name": "#%%\n"
    }
   }
  },
  {
   "cell_type": "markdown",
   "source": [
    "=======================\n",
    "### Skiing:\n",
    "##### Maior vencedor: Noruega (10 Medalhas de Ouro)"
   ],
   "metadata": {
    "collapsed": false
   }
  },
  {
   "cell_type": "code",
   "execution_count": 6,
   "outputs": [
    {
     "data": {
      "text/plain": "NOC\nNOR    10\nSWE     4\nName: NOC, dtype: int64"
     },
     "execution_count": 6,
     "metadata": {},
     "output_type": "execute_result"
    }
   ],
   "source": [
    "dt_skiing = dt_filtrado_esportes[(dt_filtrado_esportes['Sport'] == 'Skiing') & (dt_filtrado_esportes['Medal'] == 'Gold')]\n",
    "dt_skiing.groupby(['NOC'])['NOC'].count()\n"
   ],
   "metadata": {
    "collapsed": false,
    "pycharm": {
     "name": "#%%\n"
    }
   }
  },
  {
   "cell_type": "markdown",
   "source": [
    "=======================\n",
    "### Ice Hockey:\n",
    "##### Maior vencedor: Suécia (1 Medalha de ouro)"
   ],
   "metadata": {
    "collapsed": false
   }
  },
  {
   "cell_type": "code",
   "execution_count": 7,
   "outputs": [
    {
     "data": {
      "text/plain": "NOC\nSWE    1\nName: NOC, dtype: int64"
     },
     "execution_count": 7,
     "metadata": {},
     "output_type": "execute_result"
    }
   ],
   "source": [
    "dt_ice_hockey = dt_filtrado_esportes[(dt_filtrado_esportes['Sport'] == 'Ice Hockey') & (dt_filtrado_esportes['Medal'] == 'Gold')]\n",
    "dt_ice_hockey.groupby(['NOC'])['NOC'].count()\n"
   ],
   "metadata": {
    "collapsed": false,
    "pycharm": {
     "name": "#%%\n"
    }
   }
  },
  {
   "cell_type": "markdown",
   "source": [
    "## (Resposta B)"
   ],
   "metadata": {
    "collapsed": false
   }
  },
  {
   "cell_type": "code",
   "execution_count": 9,
   "outputs": [
    {
     "data": {
      "text/plain": "      Year      City       Sport      Discipline  NOC            Event  \\\n0     1924  Chamonix     Skating  Figure skating  AUT       individual   \n1     1924  Chamonix     Skating  Figure skating  AUT       individual   \n2     1924  Chamonix     Skating  Figure skating  AUT            pairs   \n3     1924  Chamonix   Bobsleigh       Bobsleigh  BEL         four-man   \n4     1924  Chamonix  Ice Hockey      Ice Hockey  CAN       ice hockey   \n...    ...       ...         ...             ...  ...              ...   \n2306  2006     Turin      Skiing       Snowboard  USA        Half-pipe   \n2307  2006     Turin      Skiing       Snowboard  USA        Half-pipe   \n2308  2006     Turin      Skiing       Snowboard  USA        Half-pipe   \n2309  2006     Turin      Skiing       Snowboard  USA  Snowboard Cross   \n2310  2006     Turin      Skiing       Snowboard  USA  Snowboard Cross   \n\n     Event gender   Medal  \n0               M  Silver  \n1               W    Gold  \n2               X    Gold  \n3               M  Bronze  \n4               M    Gold  \n...           ...     ...  \n2306            M  Silver  \n2307            W    Gold  \n2308            W  Silver  \n2309            M    Gold  \n2310            W  Silver  \n\n[2311 rows x 8 columns]",
      "text/html": "<div>\n<style scoped>\n    .dataframe tbody tr th:only-of-type {\n        vertical-align: middle;\n    }\n\n    .dataframe tbody tr th {\n        vertical-align: top;\n    }\n\n    .dataframe thead th {\n        text-align: right;\n    }\n</style>\n<table border=\"1\" class=\"dataframe\">\n  <thead>\n    <tr style=\"text-align: right;\">\n      <th></th>\n      <th>Year</th>\n      <th>City</th>\n      <th>Sport</th>\n      <th>Discipline</th>\n      <th>NOC</th>\n      <th>Event</th>\n      <th>Event gender</th>\n      <th>Medal</th>\n    </tr>\n  </thead>\n  <tbody>\n    <tr>\n      <th>0</th>\n      <td>1924</td>\n      <td>Chamonix</td>\n      <td>Skating</td>\n      <td>Figure skating</td>\n      <td>AUT</td>\n      <td>individual</td>\n      <td>M</td>\n      <td>Silver</td>\n    </tr>\n    <tr>\n      <th>1</th>\n      <td>1924</td>\n      <td>Chamonix</td>\n      <td>Skating</td>\n      <td>Figure skating</td>\n      <td>AUT</td>\n      <td>individual</td>\n      <td>W</td>\n      <td>Gold</td>\n    </tr>\n    <tr>\n      <th>2</th>\n      <td>1924</td>\n      <td>Chamonix</td>\n      <td>Skating</td>\n      <td>Figure skating</td>\n      <td>AUT</td>\n      <td>pairs</td>\n      <td>X</td>\n      <td>Gold</td>\n    </tr>\n    <tr>\n      <th>3</th>\n      <td>1924</td>\n      <td>Chamonix</td>\n      <td>Bobsleigh</td>\n      <td>Bobsleigh</td>\n      <td>BEL</td>\n      <td>four-man</td>\n      <td>M</td>\n      <td>Bronze</td>\n    </tr>\n    <tr>\n      <th>4</th>\n      <td>1924</td>\n      <td>Chamonix</td>\n      <td>Ice Hockey</td>\n      <td>Ice Hockey</td>\n      <td>CAN</td>\n      <td>ice hockey</td>\n      <td>M</td>\n      <td>Gold</td>\n    </tr>\n    <tr>\n      <th>...</th>\n      <td>...</td>\n      <td>...</td>\n      <td>...</td>\n      <td>...</td>\n      <td>...</td>\n      <td>...</td>\n      <td>...</td>\n      <td>...</td>\n    </tr>\n    <tr>\n      <th>2306</th>\n      <td>2006</td>\n      <td>Turin</td>\n      <td>Skiing</td>\n      <td>Snowboard</td>\n      <td>USA</td>\n      <td>Half-pipe</td>\n      <td>M</td>\n      <td>Silver</td>\n    </tr>\n    <tr>\n      <th>2307</th>\n      <td>2006</td>\n      <td>Turin</td>\n      <td>Skiing</td>\n      <td>Snowboard</td>\n      <td>USA</td>\n      <td>Half-pipe</td>\n      <td>W</td>\n      <td>Gold</td>\n    </tr>\n    <tr>\n      <th>2308</th>\n      <td>2006</td>\n      <td>Turin</td>\n      <td>Skiing</td>\n      <td>Snowboard</td>\n      <td>USA</td>\n      <td>Half-pipe</td>\n      <td>W</td>\n      <td>Silver</td>\n    </tr>\n    <tr>\n      <th>2309</th>\n      <td>2006</td>\n      <td>Turin</td>\n      <td>Skiing</td>\n      <td>Snowboard</td>\n      <td>USA</td>\n      <td>Snowboard Cross</td>\n      <td>M</td>\n      <td>Gold</td>\n    </tr>\n    <tr>\n      <th>2310</th>\n      <td>2006</td>\n      <td>Turin</td>\n      <td>Skiing</td>\n      <td>Snowboard</td>\n      <td>USA</td>\n      <td>Snowboard Cross</td>\n      <td>W</td>\n      <td>Silver</td>\n    </tr>\n  </tbody>\n</table>\n<p>2311 rows × 8 columns</p>\n</div>"
     },
     "execution_count": 9,
     "metadata": {},
     "output_type": "execute_result"
    }
   ],
   "source": [
    "dt_frame"
   ],
   "metadata": {
    "collapsed": false,
    "pycharm": {
     "name": "#%%\n"
    }
   }
  }
 ],
 "metadata": {
  "kernelspec": {
   "display_name": "Python 3",
   "language": "python",
   "name": "python3"
  },
  "language_info": {
   "codemirror_mode": {
    "name": "ipython",
    "version": 2
   },
   "file_extension": ".py",
   "mimetype": "text/x-python",
   "name": "python",
   "nbconvert_exporter": "python",
   "pygments_lexer": "ipython2",
   "version": "2.7.6"
  },
  "pycharm": {
   "stem_cell": {
    "cell_type": "raw",
    "source": [
     "\n"
    ],
    "metadata": {
     "collapsed": false
    }
   }
  }
 },
 "nbformat": 4,
 "nbformat_minor": 0
}