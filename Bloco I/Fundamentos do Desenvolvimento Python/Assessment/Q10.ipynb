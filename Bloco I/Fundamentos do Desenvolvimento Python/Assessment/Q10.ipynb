{
 "cells": [
  {
   "cell_type": "markdown",
   "source": [
    "##### Q10 . Obtenha, usando requests ou urllib, dentro de seu programa em Python, o csv do link: https://sites.google.com/site/dr2fundamentospython/arquivos/Winter_Olympics_Medals.csv E:\n",
    "##### A) Dentre os seguintes países nórdicos: Suécia, Dinamarca e Noruega, verifique: No século XXI (a partir de 2001), qual foi o maior medalhista de ouro, considerando apenas as seguintes modalidades:\n",
    "- Curling\n",
    "- Patinação no gelo (skating)\n",
    "- Esqui (skiing)\n",
    "- hóquei sobre o gelo (ice hockey)\n",
    "\n",
    "##### B) Para cada esporte, considere todas as modalidades, tanto no masculino quanto no feminino. Sua resposta deve imprimir um relatório mostrando o total de medalhas de cada um dos países e em que esporte, ano, cidade e gênero (masculino ou feminino) cada medalha foi obtida.\n",
    "\n"
   ],
   "metadata": {
    "collapsed": false
   }
  },
  {
   "cell_type": "markdown",
   "source": [
    "#### (Resposta A)\n",
    "##### Países Suécia = SWE, Dinamarca = DEN, Noruega = NOR"
   ],
   "metadata": {
    "collapsed": false,
    "pycharm": {
     "name": "#%% md\n"
    }
   }
  },
  {
   "cell_type": "code",
   "execution_count": 1,
   "outputs": [],
   "source": [
    "import pandas as pd"
   ],
   "metadata": {
    "collapsed": false,
    "pycharm": {
     "name": "#%%\n"
    }
   }
  },
  {
   "cell_type": "code",
   "execution_count": 2,
   "outputs": [],
   "source": [
    "dt_frame = pd.read_csv('https://sites.google.com/site/dr2fundamentospython/arquivos/Winter_Olympics_Medals.csv', sep=',')"
   ],
   "metadata": {
    "collapsed": false,
    "pycharm": {
     "name": "#%%\n"
    }
   }
  },
  {
   "cell_type": "code",
   "execution_count": 3,
   "outputs": [],
   "source": [
    "dt_paises = dt_frame[(dt_frame['NOC'] == 'SWE') | (dt_frame['NOC'] == 'DEN') | (dt_frame['NOC'] == 'NOR')]\n",
    "dt_filtra_ano = dt_paises[(dt_paises['Year'] > 2000)]\n",
    "dt_filtrado_esportes = dt_filtra_ano[(dt_filtra_ano['Sport'] == 'Curling') | (dt_filtra_ano['Sport'] == 'Skating') | (dt_filtra_ano['Sport'] == 'Skiing') | (dt_filtra_ano['Sport'] == 'Ice Hockey')]"
   ],
   "metadata": {
    "collapsed": false,
    "pycharm": {
     "name": "#%%\n"
    }
   }
  },
  {
   "cell_type": "markdown",
   "source": [
    "### Curling:\n",
    "##### Empate entre Suécia e Noruega, 1 Medalha de ouro  cada."
   ],
   "metadata": {
    "collapsed": false
   }
  },
  {
   "cell_type": "code",
   "execution_count": 4,
   "outputs": [
    {
     "data": {
      "text/plain": "NOC\nNOR    1\nSWE    1\nName: NOC, dtype: int64"
     },
     "execution_count": 4,
     "metadata": {},
     "output_type": "execute_result"
    }
   ],
   "source": [
    "dt_curling = dt_filtrado_esportes[(dt_filtrado_esportes['Sport'] == 'Curling') & (dt_filtrado_esportes['Medal'] == 'Gold')]\n",
    "dt_curling.groupby(['NOC'])['NOC'].count()\n"
   ],
   "metadata": {
    "collapsed": false,
    "pycharm": {
     "name": "#%%\n"
    }
   }
  },
  {
   "cell_type": "markdown",
   "source": [
    "=======================\n",
    "### Skating:\n",
    "##### Sem vencedores"
   ],
   "metadata": {
    "collapsed": false
   }
  },
  {
   "cell_type": "code",
   "execution_count": 5,
   "outputs": [
    {
     "data": {
      "text/plain": "Series([], Name: NOC, dtype: int64)"
     },
     "execution_count": 5,
     "metadata": {},
     "output_type": "execute_result"
    }
   ],
   "source": [
    "dt_skating = dt_filtrado_esportes[(dt_filtrado_esportes['Sport'] == 'Skating') & (dt_filtrado_esportes['Medal'] == 'Gold')]\n",
    "dt_skating.groupby(['NOC'])['NOC'].count()"
   ],
   "metadata": {
    "collapsed": false,
    "pycharm": {
     "name": "#%%\n"
    }
   }
  },
  {
   "cell_type": "markdown",
   "source": [
    "=======================\n",
    "### Skiing:\n",
    "##### Maior vencedor: Noruega (10 Medalhas de Ouro)"
   ],
   "metadata": {
    "collapsed": false
   }
  },
  {
   "cell_type": "code",
   "execution_count": 6,
   "outputs": [
    {
     "data": {
      "text/plain": "NOC\nNOR    10\nSWE     4\nName: NOC, dtype: int64"
     },
     "execution_count": 6,
     "metadata": {},
     "output_type": "execute_result"
    }
   ],
   "source": [
    "dt_skiing = dt_filtrado_esportes[(dt_filtrado_esportes['Sport'] == 'Skiing') & (dt_filtrado_esportes['Medal'] == 'Gold')]\n",
    "dt_skiing.groupby(['NOC'])['NOC'].count()\n"
   ],
   "metadata": {
    "collapsed": false,
    "pycharm": {
     "name": "#%%\n"
    }
   }
  },
  {
   "cell_type": "markdown",
   "source": [
    "=======================\n",
    "### Ice Hockey:\n",
    "##### Maior vencedor: Suécia (1 Medalha de ouro)"
   ],
   "metadata": {
    "collapsed": false
   }
  },
  {
   "cell_type": "code",
   "execution_count": 7,
   "outputs": [
    {
     "data": {
      "text/plain": "NOC\nSWE    1\nName: NOC, dtype: int64"
     },
     "execution_count": 7,
     "metadata": {},
     "output_type": "execute_result"
    }
   ],
   "source": [
    "dt_ice_hockey = dt_filtrado_esportes[(dt_filtrado_esportes['Sport'] == 'Ice Hockey') & (dt_filtrado_esportes['Medal'] == 'Gold')]\n",
    "dt_ice_hockey.groupby(['NOC'])['NOC'].count()"
   ],
   "metadata": {
    "collapsed": false,
    "pycharm": {
     "name": "#%%\n"
    }
   }
  }
 ],
 "metadata": {
  "kernelspec": {
   "display_name": "Python 3",
   "language": "python",
   "name": "python3"
  },
  "language_info": {
   "codemirror_mode": {
    "name": "ipython",
    "version": 2
   },
   "file_extension": ".py",
   "mimetype": "text/x-python",
   "name": "python",
   "nbconvert_exporter": "python",
   "pygments_lexer": "ipython2",
   "version": "2.7.6"
  },
  "pycharm": {
   "stem_cell": {
    "cell_type": "raw",
    "source": [
     "\n"
    ],
    "metadata": {
     "collapsed": false
    }
   }
  }
 },
 "nbformat": 4,
 "nbformat_minor": 0
}