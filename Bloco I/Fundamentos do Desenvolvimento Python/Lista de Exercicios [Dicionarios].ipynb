{
 "cells": [
  {
   "cell_type": "markdown",
   "metadata": {
    "collapsed": true,
    "pycharm": {
     "name": "#%% md\n"
    }
   },
   "source": [
    "##### Sabe-se que uma molécula de RNA mensageiro é utilizada como base para sintetizar proteínas, no processo denominado de traduçao. Cada trinca de bases de RNA mensageiro está relacionado com um aminoácido. Combinando vários aminoácidos, temos uma proteína. Com base na tabela (simplificada) de trincas de RNA abaixo, crie uma função que receba uma string representando uma molécula de RNA mensageiro válida, segundo essa tabela, e retorne a cadeia de aminoácidos que representam a proteína correspondente:\n",
    "UUU Phe|\n",
    "CUU Leu|\n",
    "UUA Leu|\n",
    "AAG Lisina|\n",
    "UCU Ser|\n",
    "UAU Tyr|\n",
    "CAA Gln|"
   ]
  },
  {
   "cell_type": "code",
   "execution_count": 4,
   "outputs": [
    {
     "data": {
      "text/plain": "'Phe-Leu-Ser'"
     },
     "execution_count": 4,
     "metadata": {},
     "output_type": "execute_result"
    }
   ],
   "source": [
    "# Questao 04\n",
    "#regularExpressions\n",
    "import re\n",
    "\n",
    "def traducao_rnaM(valor):\n",
    "    rna = re.split(\"(\\S{3})\", valor)\n",
    "    rna = list(filter(None, rna))\n",
    "\n",
    "    tabela = {\n",
    "        'UUU' : 'Phe',\n",
    "        'CUU' : 'Leu',\n",
    "        'UUA' : 'Leu',\n",
    "        'AAG' : 'Lisina',\n",
    "        'UCU' : 'Ser',\n",
    "        'UAU' : 'Tyr',\n",
    "        'CAA' : 'Gln',\n",
    "    }\n",
    "\n",
    "    resultado = []\n",
    "\n",
    "    for trinca in rna:\n",
    "        if trinca in tabela:\n",
    "            resultado.append(tabela[trinca])\n",
    "\n",
    "    string = '-'.join(resultado)\n",
    "    return string\n",
    "\n",
    "traducao_rnaM('UUUUUAUCU')\n"
   ],
   "metadata": {
    "collapsed": false,
    "pycharm": {
     "name": "#%%\n"
    }
   }
  },
  {
   "cell_type": "markdown",
   "source": [
    "##### Escreva uma funcao que converte numeros inteiros entre 1 e 999 para algarismos romanos. Nao converta o numero para uma string, e use um laco while. Use os tres dicionarios abaixo: [...]"
   ],
   "metadata": {
    "collapsed": false
   }
  },
  {
   "cell_type": "code",
   "execution_count": 5,
   "outputs": [
    {
     "data": {
      "text/plain": "'XXXVI'"
     },
     "execution_count": 5,
     "metadata": {},
     "output_type": "execute_result"
    }
   ],
   "source": [
    "def converte_num(num):\n",
    "    # dicionarios\n",
    "    unidades = { 0: '', 1: 'I', 2: 'II', 3: 'III', 4: 'IV', 5: 'V', 6: 'VI', 7: 'VII', 8: 'VIII', 9: 'IX' }\n",
    "    dezenas = { 0: '', 1: 'X', 2: 'XX', 3: 'XXX', 4: 'XL', 5: 'L', 6: 'LX', 7: 'LXX', 8: 'LXXX', 9: 'XC' }\n",
    "    centenas = { 0:'', 1: 'C', 2: 'CC', 3: 'CCC', 4: 'CD', 5: 'D', 6: 'DC', 7: 'DCC', 8:'DCCC', 9:'CM' }\n",
    "\n",
    "    # logica para separar uni/dez/cent e buscar no dicionario o valor correspondente.\n",
    "    cent = num//100\n",
    "    c_roma = centenas[cent]\n",
    "    dez = (num-cent*100)//10\n",
    "    d_roma = dezenas[dez]\n",
    "    uni = (num-cent*100-dez*10)\n",
    "    u_roma = unidades[uni]\n",
    "\n",
    "    #retorna o numero romano\n",
    "    num_romano = c_roma+d_roma+u_roma\n",
    "\n",
    "    return num_romano\n",
    "\n",
    "converte_num(36)"
   ],
   "metadata": {
    "collapsed": false,
    "pycharm": {
     "name": "#%%\n"
    }
   }
  },
  {
   "cell_type": "markdown",
   "source": [
    "#### 01) Escreva uma função que recebe uma lista e retorna uma nova lista sem elementos duplicados. Lembre que os elementos duplicados não precisam aparecer em posições consecutivas. Dica: use um dicionário."
   ],
   "metadata": {
    "collapsed": false
   }
  },
  {
   "cell_type": "code",
   "execution_count": 6,
   "outputs": [
    {
     "data": {
      "text/plain": "[777, 1, 2, 3, 5, 6, 0]"
     },
     "execution_count": 6,
     "metadata": {},
     "output_type": "execute_result"
    }
   ],
   "source": [
    "def rem_duplicados(lista):\n",
    "    # cria o dicionário vazio.\n",
    "    dicionario = {}\n",
    "\n",
    "    # itera sobre a lista de entrada, e adiciona as chaves ao dicionario.\n",
    "    for item in lista:\n",
    "        dicionario[item] = True\n",
    "\n",
    "    # cria a variável nova_lista com a lista das chaves do dicionario.\n",
    "    nova_lista = list(dicionario)\n",
    "    return nova_lista\n",
    "\n",
    "rem_duplicados([777,777,1,2,3,5,5,6,6,6,0])"
   ],
   "metadata": {
    "collapsed": false,
    "pycharm": {
     "name": "#%%\n"
    }
   }
  },
  {
   "cell_type": "markdown",
   "source": [
    "##### 03) Construa uma função que receba uma string e retorne um dicionário onde cada palavra dessa string seja uma chave e tenha como valor o número de vezes que a palavra aparece."
   ],
   "metadata": {
    "collapsed": false
   }
  },
  {
   "cell_type": "code",
   "execution_count": 7,
   "outputs": [
    {
     "data": {
      "text/plain": "{'o': 2,\n 'mundo': 2,\n 'e': 2,\n 'planeta': 1,\n 'terra': 2,\n 'são': 1,\n 'feitos': 1,\n 'de': 1}"
     },
     "execution_count": 7,
     "metadata": {},
     "output_type": "execute_result"
    }
   ],
   "source": [
    "def num_words(texto):\n",
    "    texto = texto.lower().split()\n",
    "    contador = {}\n",
    "    for palavra in texto:\n",
    "        if palavra in contador:\n",
    "            contador[palavra] += 1\n",
    "        else:\n",
    "            contador[palavra] = 1\n",
    "    return contador\n",
    "\n",
    "frase = 'o mundo e o planeta terra são feitos de terra e mundo'\n",
    "\n",
    "num_words(frase)"
   ],
   "metadata": {
    "collapsed": false,
    "pycharm": {
     "name": "#%%\n"
    }
   }
  },
  {
   "cell_type": "markdown",
   "source": [],
   "metadata": {
    "collapsed": false
   }
  }
 ],
 "metadata": {
  "kernelspec": {
   "name": "python3",
   "language": "python",
   "display_name": "Python 3"
  },
  "language_info": {
   "codemirror_mode": {
    "name": "ipython",
    "version": 2
   },
   "file_extension": ".py",
   "mimetype": "text/x-python",
   "name": "python",
   "nbconvert_exporter": "python",
   "pygments_lexer": "ipython2",
   "version": "2.7.6"
  }
 },
 "nbformat": 4,
 "nbformat_minor": 0
}