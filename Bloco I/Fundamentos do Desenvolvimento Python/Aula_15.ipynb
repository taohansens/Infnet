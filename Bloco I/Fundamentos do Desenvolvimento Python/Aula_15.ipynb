{
 "cells": [
  {
   "cell_type": "code",
   "execution_count": 1,
   "metadata": {
    "collapsed": true,
    "pycharm": {
     "name": "#%%\n"
    }
   },
   "outputs": [],
   "source": [
    "import requests\n",
    "import lxml\n",
    "from bs4 import BeautifulSoup"
   ]
  },
  {
   "cell_type": "markdown",
   "source": [
    "### Extraindo informações de site de previsão do tempo.\n",
    "#### Cidade: São Raimundo Nonato/PI [Dia: 02/12/2020]\n"
   ],
   "metadata": {
    "collapsed": false
   }
  },
  {
   "cell_type": "code",
   "execution_count": 6,
   "outputs": [],
   "source": [
    "url = \"https://www.cptec.inpe.br/previsao-tempo/pi/sao-raimundo-nonato\"\n",
    "requisicao = requests.get(url)\n",
    "\n",
    "# Testando se a conexão funcionou.\n",
    "if requisicao.status_code != 200:\n",
    "  requisicao.raise_for_status()\n",
    "\n",
    "#requisicao.encoding = 'utf-8' Mudar o enconding (acentuação)\n",
    "html = requisicao.text\n",
    "soup = BeautifulSoup(html, \"html\")"
   ],
   "metadata": {
    "collapsed": false,
    "pycharm": {
     "name": "#%%\n"
    }
   }
  },
  {
   "cell_type": "code",
   "execution_count": 7,
   "outputs": [
    {
     "data": {
      "text/plain": "[{'data': 'Quinta-feira03/12',\n  'Temperatura máxima': '33°',\n  'Temperatura mínima': '22°'},\n {'data': 'Sexta-feira04/12',\n  'Temperatura máxima': '33°',\n  'Temperatura mínima': '21°'},\n {'data': 'Sábado05/12',\n  'Temperatura máxima': '34°',\n  'Temperatura mínima': '21°'},\n {'data': 'Domingo06/12',\n  'Temperatura máxima': '31°',\n  'Temperatura mínima': '21°'},\n {'data': 'Segunda-feira07/12',\n  'Temperatura máxima': '32°',\n  'Temperatura mínima': '22°'},\n {'data': 'Terça-feira08/12',\n  'Temperatura máxima': '32°',\n  'Temperatura mínima': '21°'}]"
     },
     "execution_count": 7,
     "metadata": {},
     "output_type": "execute_result"
    }
   ],
   "source": [
    "resultado = []\n",
    "\n",
    "for div_prev in soup.find_all('div', class_='boletins'):\n",
    "  for div_titulo, div_temp_max, div_temp_min in zip(div_prev.find_all('h5'),\n",
    "                                                    div_prev.find_all('span', title='Temperatura máxima'),\n",
    "                                                    div_prev.find_all('span', title='Temperatura mínima')):\n",
    "    resultado.append({'data' : div_titulo.text,\n",
    "                    'Temperatura máxima':div_temp_max.text.replace('\\xa0', '') ,\n",
    "                    'Temperatura mínima' :div_temp_min.text.replace('\\xa0', '') })\n",
    "resultado"
   ],
   "metadata": {
    "collapsed": false,
    "pycharm": {
     "name": "#%%\n"
    }
   }
  }
 ],
 "metadata": {
  "kernelspec": {
   "display_name": "Python 3",
   "language": "python",
   "name": "python3"
  },
  "language_info": {
   "codemirror_mode": {
    "name": "ipython",
    "version": 2
   },
   "file_extension": ".py",
   "mimetype": "text/x-python",
   "name": "python",
   "nbconvert_exporter": "python",
   "pygments_lexer": "ipython2",
   "version": "2.7.6"
  }
 },
 "nbformat": 4,
 "nbformat_minor": 0
}