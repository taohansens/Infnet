{
 "cells": [
  {
   "cell_type": "markdown",
   "metadata": {
    "collapsed": true,
    "pycharm": {
     "name": "#%% md\n"
    }
   },
   "source": [
    "Introdução ao:\n",
    "#PSUTIL (https://pypi.org/project/psutil/)\n",
    "#PLATFORM (https://docs.python.org/3.9/library/platform.html)\n",
    "#TIME (https://docs.python.org/3.9/library/time.html)"
   ]
  },
  {
   "cell_type": "code",
   "execution_count": 5,
   "metadata": {
    "pycharm": {
     "name": "#%%\n"
    }
   },
   "outputs": [],
   "source": [
    "import psutil\n",
    "import platform\n",
    "import time"
   ]
  },
  {
   "cell_type": "markdown",
   "metadata": {},
   "source": [
    "##Function Memory"
   ]
  },
  {
   "cell_type": "code",
   "execution_count": 6,
   "metadata": {
    "pycharm": {
     "name": "#%%\n"
    }
   },
   "outputs": [],
   "source": [
    "def memory():\n",
    "    mem = psutil.virtual_memory()\n",
    "    capacidade = round(mem.total/(1024**3), 2)\n",
    "    return capacidade"
   ]
  },
  {
   "cell_type": "markdown",
   "metadata": {},
   "source": [
    "##Function Processor"
   ]
  },
  {
   "cell_type": "code",
   "execution_count": 7,
   "metadata": {
    "pycharm": {
     "name": "#%%\n"
    }
   },
   "outputs": [],
   "source": [
    "def processor():\n",
    "    processor = platform.processor()\n",
    "    plataforma = platform.platform()\n",
    "    percent = psutil.cpu_percent()\n",
    "    return percent, processor, plataforma\n"
   ]
  },
  {
   "cell_type": "code",
   "execution_count": 9,
   "metadata": {
    "pycharm": {
     "is_executing": true,
     "name": "#%%\n"
    }
   },
   "outputs": [
    {
     "name": "stdout",
     "output_type": "stream",
     "text": [
      "Memória Total: 15.95 GB\n",
      "\n",
      "% Utilização:  1.0 \n",
      "Processador:  AMD64 Family 23 Model 8 Stepping 2, AuthenticAMD \n",
      "Plataforma:  Windows-10-10.0.18362-SP0\n"
     ]
    }
   ],
   "source": [
    "print(\"Memória Total:\", memory(), \"GB\")\n",
    "print(\"\\n% Utilização: \", processor()[0], \"\\nProcessador: \", processor()[1], \"\\nPlataforma: \", processor()[2])"
   ]
  },
  {
   "cell_type": "code",
   "execution_count": null,
   "metadata": {},
   "outputs": [],
   "source": []
  }
 ],
 "metadata": {
  "kernelspec": {
   "display_name": "Python 3",
   "language": "python",
   "name": "python3"
  },
  "language_info": {
   "codemirror_mode": {
    "name": "ipython",
    "version": 3
   },
   "file_extension": ".py",
   "mimetype": "text/x-python",
   "name": "python",
   "nbconvert_exporter": "python",
   "pygments_lexer": "ipython3",
   "version": "3.7.7"
  }
 },
 "nbformat": 4,
 "nbformat_minor": 1
}
