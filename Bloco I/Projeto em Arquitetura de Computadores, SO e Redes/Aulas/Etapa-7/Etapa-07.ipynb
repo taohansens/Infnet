{
 "cells": [
  {
   "cell_type": "markdown",
   "source": [
    "###### socket em python:\n",
    "###### https://blog.4linux.com.br/socket-em-python/\n",
    "\n",
    "###### psutil\n",
    "###### https://psutil.readthedocs.io/en/latest/\n",
    "\n",
    "\n",
    "###### psutilpsutil.net_if_addrs()"
   ],
   "metadata": {
    "collapsed": false
   }
  },
  {
   "cell_type": "code",
   "execution_count": 19,
   "outputs": [
    {
     "data": {
      "text/plain": "snetio(bytes_sent=551994659, bytes_recv=843475107, packets_sent=830666, packets_recv=689190, errin=0, errout=0, dropin=0, dropout=0)"
     },
     "execution_count": 19,
     "metadata": {},
     "output_type": "execute_result"
    }
   ],
   "source": [
    "import time\n",
    "import psutil\n",
    "psutil.net_io_counters()"
   ],
   "metadata": {
    "collapsed": false,
    "pycharm": {
     "name": "#%%\n"
    }
   }
  },
  {
   "cell_type": "markdown",
   "source": [
    "sent bytes\n",
    "rec. bytes"
   ],
   "metadata": {
    "collapsed": false
   }
  },
  {
   "cell_type": "code",
   "execution_count": 9,
   "outputs": [
    {
     "name": "stdout",
     "output_type": "stream",
     "text": [
      "471700.69 KB\n",
      "787609.02 KB\n"
     ]
    }
   ],
   "source": [
    "print(round(psutil.net_io_counters().bytes_sent/1024,2), \"KB\")\n",
    "print(round(psutil.net_io_counters().bytes_recv/1024,2), \"KB\")\n"
   ],
   "metadata": {
    "collapsed": false,
    "pycharm": {
     "name": "#%%\n"
    }
   }
  },
  {
   "cell_type": "code",
   "execution_count": 15,
   "outputs": [
    {
     "name": "stdout",
     "output_type": "stream",
     "text": [
      "773050\n",
      "640022\n"
     ]
    }
   ],
   "source": [
    "print(round(psutil.net_io_counters().packets_sent))\n",
    "print(round(psutil.net_io_counters().packets_recv))\n"
   ],
   "metadata": {
    "collapsed": false,
    "pycharm": {
     "name": "#%%\n"
    }
   }
  },
  {
   "cell_type": "code",
   "execution_count": 20,
   "outputs": [],
   "source": [
    "dados_env_1 = round(psutil.net_io_counters().bytes_sent/1024, 2)\n",
    "dados_rec_1 = round(psutil.net_io_counters().bytes_recv/1024, 2)\n",
    "# time de 1s\n",
    "time.sleep(1)\n",
    "\n",
    "dados_env_2 = round(psutil.net_io_counters().bytes_sent/1024, 2)\n",
    "dados_rec_2 = round(psutil.net_io_counters().bytes_recv/1024, 2)\n",
    "\n",
    "vazao_s = dados_env_2 - dados_env_1\n",
    "vazao_r = dados_rec_2 - dados_rec_1"
   ],
   "metadata": {
    "collapsed": false,
    "pycharm": {
     "name": "#%%\n"
    }
   }
  },
  {
   "cell_type": "code",
   "execution_count": 22,
   "outputs": [],
   "source": [
    "env_1 = psutil.net_io_counters().bytes_sent\n",
    "time.sleep(1)\n",
    "env_2 = psutil.net_io_counters().bytes_sent\n",
    "\n",
    "vazao_s = round((env_2 - env_1)/1024, 2)\n",
    "\n",
    "rec_1 = psutil.net_io_counters().bytes_recv\n",
    "time.sleep(1)\n",
    "rec_2 = psutil.net_io_counters().bytes_recv\n",
    "\n",
    "vazao_r = round((rec_2 - rec_1)/1024, 2)"
   ],
   "metadata": {
    "collapsed": false,
    "pycharm": {
     "name": "#%%\n"
    }
   }
  },
  {
   "cell_type": "code",
   "execution_count": 25,
   "outputs": [
    {
     "name": "stdout",
     "output_type": "stream",
     "text": [
      "0\n",
      "4\n",
      "8\n",
      "88\n",
      "152\n",
      "712\n",
      "936\n",
      "1008\n",
      "1020\n",
      "1032\n",
      "1096\n",
      "1108\n",
      "1116\n",
      "1124\n",
      "1236\n",
      "1264\n",
      "1288\n",
      "1316\n",
      "1360\n",
      "1368\n",
      "1456\n",
      "1508\n",
      "1532\n",
      "1564\n",
      "1568\n",
      "1596\n",
      "1624\n",
      "1664\n",
      "1724\n",
      "1744\n",
      "1784\n",
      "1792\n",
      "1828\n",
      "1836\n",
      "1888\n",
      "1896\n",
      "1956\n",
      "1972\n",
      "1988\n",
      "1996\n",
      "2016\n",
      "2116\n",
      "2124\n",
      "2164\n",
      "2200\n",
      "2232\n",
      "2328\n",
      "2352\n",
      "2360\n",
      "2368\n",
      "2376\n",
      "2464\n",
      "2476\n",
      "2532\n",
      "2540\n",
      "2616\n",
      "2624\n",
      "2676\n",
      "2716\n",
      "2728\n",
      "2740\n",
      "2876\n",
      "3020\n",
      "3060\n",
      "3096\n",
      "3152\n",
      "3228\n",
      "3280\n",
      "3336\n",
      "3388\n",
      "3404\n",
      "3420\n",
      "3452\n",
      "3456\n",
      "3632\n",
      "3652\n",
      "3656\n",
      "3664\n",
      "3732\n",
      "3784\n",
      "3828\n",
      "3876\n",
      "3884\n",
      "3912\n",
      "3916\n",
      "3936\n",
      "3944\n",
      "3952\n",
      "3960\n",
      "3976\n",
      "3988\n",
      "3996\n",
      "4004\n",
      "4024\n",
      "4032\n",
      "4064\n",
      "4072\n",
      "4088\n",
      "4260\n",
      "4268\n",
      "4276\n",
      "4300\n",
      "4312\n",
      "4332\n",
      "4380\n",
      "4436\n",
      "4464\n",
      "4656\n",
      "4692\n",
      "4784\n",
      "4808\n",
      "4892\n",
      "4904\n",
      "4932\n",
      "5220\n",
      "5308\n",
      "5364\n",
      "5384\n",
      "5444\n",
      "5488\n",
      "5508\n",
      "5644\n",
      "6024\n",
      "6048\n",
      "6184\n",
      "6364\n",
      "6476\n",
      "6484\n",
      "6516\n",
      "6548\n",
      "6568\n",
      "6748\n",
      "6908\n",
      "6916\n",
      "6924\n",
      "7092\n",
      "7100\n",
      "7232\n",
      "7240\n",
      "7316\n",
      "7324\n",
      "7412\n",
      "7468\n",
      "7480\n",
      "7548\n",
      "7616\n",
      "7740\n",
      "7844\n",
      "7960\n",
      "8256\n",
      "8284\n",
      "8296\n",
      "8336\n",
      "8508\n",
      "8724\n",
      "8748\n",
      "8776\n",
      "8852\n",
      "8856\n",
      "9028\n",
      "9044\n",
      "9252\n",
      "9320\n",
      "9572\n",
      "9604\n",
      "9816\n",
      "9828\n",
      "9888\n",
      "10028\n",
      "10040\n",
      "10104\n",
      "10228\n",
      "10236\n",
      "10296\n",
      "10456\n",
      "10484\n",
      "10812\n",
      "11020\n",
      "11072\n",
      "11224\n",
      "11240\n",
      "11760\n",
      "11844\n",
      "11948\n",
      "12172\n",
      "12192\n",
      "12208\n",
      "12268\n",
      "12424\n",
      "12472\n",
      "12480\n",
      "12520\n",
      "12744\n",
      "12788\n",
      "12880\n",
      "12912\n",
      "13072\n",
      "13200\n",
      "13252\n",
      "13492\n",
      "13524\n",
      "13740\n",
      "14068\n",
      "14104\n",
      "14428\n",
      "14808\n",
      "15012\n",
      "15024\n",
      "15140\n",
      "15252\n",
      "15348\n",
      "15892\n",
      "16912\n",
      "17140\n"
     ]
    }
   ],
   "source": [
    "for i in psutil.pids():\n",
    "    print(i)"
   ],
   "metadata": {
    "collapsed": false,
    "pycharm": {
     "name": "#%%\n"
    }
   }
  }
 ],
 "metadata": {
  "kernelspec": {
   "display_name": "Python 3",
   "language": "python",
   "name": "python3"
  },
  "language_info": {
   "codemirror_mode": {
    "name": "ipython",
    "version": 2
   },
   "file_extension": ".py",
   "mimetype": "text/x-python",
   "name": "python",
   "nbconvert_exporter": "python",
   "pygments_lexer": "ipython2",
   "version": "2.7.6"
  }
 },
 "nbformat": 4,
 "nbformat_minor": 0
}