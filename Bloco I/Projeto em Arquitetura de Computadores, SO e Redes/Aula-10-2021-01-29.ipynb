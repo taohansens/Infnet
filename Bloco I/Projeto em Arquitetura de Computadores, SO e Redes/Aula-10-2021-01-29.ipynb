{
 "cells": [
  {
   "cell_type": "markdown",
   "metadata": {
    "collapsed": true,
    "pycharm": {
     "name": "#%% md\n"
    }
   },
   "source": [
    "Imports Datetime\n",
    "https://docs.python.org/3.9/library/datetime.html\n"
   ]
  },
  {
   "cell_type": "code",
   "execution_count": 5,
   "outputs": [],
   "source": [
    "import datetime\n",
    "from datetime import date\n",
    "from datetime import time\n",
    "from datetime import timedelta"
   ],
   "metadata": {
    "collapsed": false,
    "pycharm": {
     "name": "#%%\n"
    }
   }
  },
  {
   "cell_type": "code",
   "source": [
    "# Data de hoje\n",
    "print(date.today())"
   ],
   "metadata": {
    "collapsed": false,
    "pycharm": {
     "name": "#%%\n"
    }
   },
   "execution_count": 2,
   "outputs": [
    {
     "name": "stdout",
     "output_type": "stream",
     "text": [
      "2021-02-12\n"
     ]
    }
   ]
  },
  {
   "cell_type": "code",
   "execution_count": 6,
   "outputs": [
    {
     "name": "stdout",
     "output_type": "stream",
     "text": [
      "49 days, 0:00:00\n"
     ]
    }
   ],
   "source": [
    "# subtração de datas\n",
    "print(date.today() - datetime.date(2020,12,25))\n"
   ],
   "metadata": {
    "collapsed": false,
    "pycharm": {
     "name": "#%%\n"
    }
   }
  },
  {
   "cell_type": "code",
   "execution_count": 8,
   "outputs": [
    {
     "name": "stdout",
     "output_type": "stream",
     "text": [
      "Data máx: 9999-12-31\n",
      "Data min: 0001-01-01\n"
     ]
    }
   ],
   "source": [
    "# datas min e max\n",
    "print(f\"Data máx: {date.max}\")\n",
    "print(f\"Data min: {date.min}\")"
   ],
   "metadata": {
    "collapsed": false,
    "pycharm": {
     "name": "#%%\n"
    }
   }
  },
  {
   "cell_type": "code",
   "execution_count": 10,
   "outputs": [
    {
     "name": "stdout",
     "output_type": "stream",
     "text": [
      "Data atual: 2021-02-12\n",
      "Alteração dia: 2021-02-15\n",
      "Alteração mês: 2021-10-15\n"
     ]
    }
   ],
   "source": [
    "# utilizando variáveis\n",
    "dia = date.today()\n",
    "print(f\"Data atual: {dia}\")\n",
    "# trocar dia\n",
    "dia = dia.replace(day=15)\n",
    "\n",
    "print(f\"Alteração dia: {dia}\")\n",
    "dia = dia.replace(month=10)\n",
    "\n",
    "print(f\"Alteração mês: {dia}\")"
   ],
   "metadata": {
    "collapsed": false,
    "pycharm": {
     "name": "#%%\n"
    }
   }
  },
  {
   "cell_type": "code",
   "execution_count": 13,
   "outputs": [
    {
     "name": "stdout",
     "output_type": "stream",
     "text": [
      "4\n",
      "5\n"
     ]
    }
   ],
   "source": [
    "# dia da semana\n",
    "# MONDAY IS 0 AND SUNDAY IS 6\n",
    "print(dia.weekday())\n",
    "\n",
    "# where Monday is 1 and Sunday is 7\n",
    "print(dia.isoweekday())"
   ],
   "metadata": {
    "collapsed": false,
    "pycharm": {
     "name": "#%%\n"
    }
   }
  },
  {
   "cell_type": "code",
   "execution_count": 18,
   "outputs": [
    {
     "name": "stdout",
     "output_type": "stream",
     "text": [
      "316\n"
     ]
    }
   ],
   "source": [
    "# cálculo de dias para o natal\n",
    "dia = date.today()\n",
    "natal = date(2021,12,25)\n",
    "falta_natal = natal - dia\n",
    "print(falta_natal.days)"
   ],
   "metadata": {
    "collapsed": false,
    "pycharm": {
     "name": "#%%\n"
    }
   }
  },
  {
   "cell_type": "markdown",
   "source": [
    "Calendar\n",
    "https://docs.python.org/3.9/library/datetime.html#module-datetime"
   ],
   "metadata": {
    "collapsed": false
   }
  },
  {
   "cell_type": "code",
   "execution_count": 27,
   "outputs": [
    {
     "name": "stdout",
     "output_type": "stream",
     "text": [
      "True\n",
      "Mo Tu We Th Fr Sa Su\n",
      "[1, 2, 3, 4, 5, 6, 7]\n",
      "[8, 9, 10, 11, 12, 13, 14]\n",
      "[15, 16, 17, 18, 19, 20, 21]\n",
      "[22, 23, 24, 25, 26, 27, 28]\n"
     ]
    }
   ],
   "source": [
    "import calendar\n",
    "#leap year\n",
    "print(calendar.isleap(2020))\n",
    "\n",
    "# mes\n",
    "fev2021 = calendar.monthcalendar(2021,2)\n",
    "print(calendar.weekheader(2))\n",
    "for week in fev2021:\n",
    "    print(week)\n"
   ],
   "metadata": {
    "collapsed": false,
    "pycharm": {
     "name": "#%%\n"
    }
   }
  },
  {
   "cell_type": "markdown",
   "source": [
    "==============================\n",
    "\n"
   ],
   "metadata": {
    "collapsed": false
   }
  },
  {
   "cell_type": "code",
   "execution_count": 31,
   "outputs": [
    {
     "name": "stdout",
     "output_type": "stream",
     "text": [
      "O tempo é Fri Feb 12 20:21:10 2021\n",
      "15s depois: Fri Feb 12 20:21:25 2021\n"
     ]
    }
   ],
   "source": [
    "import time\n",
    "#Data Formatada\n",
    "print(f\"O tempo é {time.ctime()}\")\n",
    "depois = time.time()+15\n",
    "print(f\"15s depois: {time.ctime(depois)}\")\n",
    "\n",
    "\n",
    "\n"
   ],
   "metadata": {
    "collapsed": false,
    "pycharm": {
     "name": "#%%\n"
    }
   }
  }
 ],
 "metadata": {
  "kernelspec": {
   "display_name": "Python 3",
   "language": "python",
   "name": "python3"
  },
  "language_info": {
   "codemirror_mode": {
    "name": "ipython",
    "version": 2
   },
   "file_extension": ".py",
   "mimetype": "text/x-python",
   "name": "python",
   "nbconvert_exporter": "python",
   "pygments_lexer": "ipython2",
   "version": "2.7.6"
  }
 },
 "nbformat": 4,
 "nbformat_minor": 0
}