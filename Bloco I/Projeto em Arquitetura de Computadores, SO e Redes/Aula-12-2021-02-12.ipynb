{
 "cells": [
  {
   "cell_type": "markdown",
   "source": [
    "Ip ativos dentro da subrede"
   ],
   "metadata": {
    "collapsed": false,
    "pycharm": {
     "name": "#%% md\n"
    }
   }
  },
  {
   "cell_type": "code",
   "execution_count": null,
   "metadata": {
    "collapsed": true,
    "pycharm": {
     "name": "#%%\n",
     "is_executing": true
    }
   },
   "outputs": [
    {
     "name": "stdout",
     "output_type": "stream",
     "text": [
      "O teste será feito na sub rede:  10.0.0.\n",
      "Mapeando\r\n",
      "............\n",
      "Mapping ready...\n",
      "Os host válidos são:  ['10.0.0.1', '10.0.0.2', '10.0.0.13', '10.0.0.32', '10.0.0.33', '10.0.0.34', '10.0.0.35', '10.0.0.36', '10.0.0.37', '10.0.0.39', '10.0.0.40', '10.0.0.41', '10.0.0.42', '10.0.0.43', '10.0.0.44', '10.0.0.45', '10.0.0.46', '10.0.0.47', '10.0.0.49', '10.0.0.50', '10.0.0.51', '10.0.0.52', '10.0.0.53', '10.0.0.54', '10.0.0.55', '10.0.0.56', '10.0.0.57', '10.0.0.59', '10.0.0.61', '10.0.0.62', '10.0.0.63', '10.0.0.64', '10.0.0.66', '10.0.0.67', '10.0.0.68', '10.0.0.69', '10.0.0.70', '10.0.0.71', '10.0.0.72', '10.0.0.73', '10.0.0.74', '10.0.0.76', '10.0.0.77', '10.0.0.80', '10.0.0.81', '10.0.0.82', '10.0.0.83', '10.0.0.84', '10.0.0.85', '10.0.0.86', '10.0.0.87', '10.0.0.88', '10.0.0.91', '10.0.0.92', '10.0.0.93', '10.0.0.94', '10.0.0.95', '10.0.0.96', '10.0.0.97', '10.0.0.98', '10.0.0.100', '10.0.0.101', '10.0.0.102', '10.0.0.103', '10.0.0.104', '10.0.0.105', '10.0.0.106', '10.0.0.107', '10.0.0.108', '10.0.0.110', '10.0.0.111', '10.0.0.112', '10.0.0.113', '10.0.0.114', '10.0.0.115', '10.0.0.116', '10.0.0.117', '10.0.0.118', '10.0.0.119', '10.0.0.120', '10.0.0.121', '10.0.0.122', '10.0.0.123', '10.0.0.124', '10.0.0.125', '10.0.0.127', '10.0.0.128', '10.0.0.136', '10.0.0.137', '10.0.0.138', '10.0.0.139', '10.0.0.140', '10.0.0.141', '10.0.0.142', '10.0.0.143', '10.0.0.145', '10.0.0.147', '10.0.0.148', '10.0.0.149', '10.0.0.150', '10.0.0.151', '10.0.0.152', '10.0.0.153', '10.0.0.154', '10.0.0.156', '10.0.0.157', '10.0.0.159', '10.0.0.160', '10.0.0.161', '10.0.0.162', '10.0.0.164', '10.0.0.165', '10.0.0.166', '10.0.0.167', '10.0.0.169', '10.0.0.170', '10.0.0.171', '10.0.0.172', '10.0.0.173', '10.0.0.174', '10.0.0.175', '10.0.0.176', '10.0.0.179', '10.0.0.180', '10.0.0.181', '10.0.0.182', '10.0.0.184', '10.0.0.185', '10.0.0.186', '10.0.0.187', '10.0.0.188', '10.0.0.189', '10.0.0.190', '10.0.0.191', '10.0.0.197', '10.0.0.198', '10.0.0.199', '10.0.0.200', '10.0.0.201', '10.0.0.202', '10.0.0.203', '10.0.0.204', '10.0.0.205', '10.0.0.206', '10.0.0.207', '10.0.0.209', '10.0.0.212', '10.0.0.213', '10.0.0.214', '10.0.0.215', '10.0.0.216', '10.0.0.217', '10.0.0.218', '10.0.0.219', '10.0.0.221', '10.0.0.222', '10.0.0.223', '10.0.0.224', '10.0.0.225', '10.0.0.226', '10.0.0.227', '10.0.0.228', '10.0.0.229', '10.0.0.230', '10.0.0.231', '10.0.0.232', '10.0.0.233', '10.0.0.234', '10.0.0.235', '10.0.0.236', '10.0.0.237', '10.0.0.238', '10.0.0.239', '10.0.0.241', '10.0.0.242', '10.0.0.243', '10.0.0.244', '10.0.0.245', '10.0.0.246', '10.0.0.247', '10.0.0.248', '10.0.0.249', '10.0.0.250', '10.0.0.252', '10.0.0.253', '10.0.0.254']\n",
      "O IP 10.0.0.1 possui o nome \n",
      "O IP 10.0.0.2 possui o nome \n",
      "O IP 10.0.0.13 possui o nome \n",
      "O IP 10.0.0.32 possui o nome \n",
      "O IP 10.0.0.33 possui o nome \n",
      "Falhou 10.0.0.34\n",
      "Falhou 10.0.0.35\n",
      "O IP 10.0.0.36 possui o nome \n",
      "O IP 10.0.0.37 possui o nome \n",
      "O IP 10.0.0.39 possui o nome \n",
      "O IP 10.0.0.40 possui o nome \n",
      "Falhou 10.0.0.41\n"
     ]
    }
   ],
   "source": [
    "import os\n",
    "import subprocess\n",
    "import platform\n",
    "\n",
    "import nmap\n",
    "def obter_hostnames(host_validos):\n",
    "  nm = nmap.PortScanner()\n",
    "  for i in host_validos:\n",
    "      try:\n",
    "          nm.scan(i)\n",
    "          print(\"O IP\", i, \"possui o nome\", nm[i].hostname())\n",
    "      except:\n",
    "          print(\"Falhou\", i)\n",
    "          pass\n",
    "\n",
    "def retorna_codigo_ping(hostname):\n",
    "  plataforma = platform.system()\n",
    "  args = []\n",
    "  if plataforma == \"Windows\":\n",
    "      args = [\"ping\", \"-n\", \"1\", \"-l\", \"1\", \"-w\", \"100\", hostname]\n",
    "\n",
    "  else:\n",
    "      args = ['ping', '-c', '1', '-W', '1', hostname]\n",
    "\n",
    "  ret_cod = subprocess.call(args,\n",
    "                            stdout=open(os.devnull, 'w'),\n",
    "                            stderr=open(os.devnull, 'w'))\n",
    "  return ret_cod\n",
    "\n",
    "def verifica_hosts(base_ip):\n",
    "  \"\"\"Verifica todos os host com a base_ip entre 1 e 255 retorna uma lista com todos os host que tiveram resposta 0 (ativo)\"\"\"\n",
    "  print(\"Mapeando\\r\")\n",
    "  host_validos = []\n",
    "  return_codes = dict()\n",
    "  for i in range(1, 255):\n",
    "      return_codes[base_ip + '{0}'.format(i)] =   retorna_codigo_ping(base_ip + '{0}'.format(i))\n",
    "      if i %20 ==0:\n",
    "          print(\".\", end = \"\")\n",
    "      if        return_codes[base_ip + '{0}'.format(i)] == 0:\n",
    "          host_validos.append(base_ip + '{0}'.format(i))\n",
    "  print(\"\\nMapping ready...\")\n",
    "\n",
    "  return host_validos\n",
    "\n",
    "# Chamadas\n",
    "\n",
    "ip_string = input(\"Entre com o ip alvo: \")\n",
    "ip_lista = ip_string.split('.')\n",
    "base_ip = \".\".join(ip_lista[0:3]) + '.'\n",
    "print(\"O teste será feito na sub rede: \", base_ip)\n",
    "host_validos = verifica_hosts(base_ip)\n",
    "print (\"Os host válidos são: \", host_validos)\n",
    "\n",
    "obter_hostnames(host_validos)\n",
    "\n"
   ]
  }
 ],
 "metadata": {
  "kernelspec": {
   "display_name": "Python 3",
   "language": "python",
   "name": "python3"
  },
  "language_info": {
   "codemirror_mode": {
    "name": "ipython",
    "version": 2
   },
   "file_extension": ".py",
   "mimetype": "text/x-python",
   "name": "python",
   "nbconvert_exporter": "python",
   "pygments_lexer": "ipython2",
   "version": "2.7.6"
  }
 },
 "nbformat": 4,
 "nbformat_minor": 0
}