{
 "cells": [
  {
   "cell_type": "markdown",
   "source": [
    "#Barra de Memória com Pygame"
   ],
   "metadata": {
    "collapsed": false
   }
  },
  {
   "cell_type": "code",
   "execution_count": 64,
   "outputs": [
    {
     "ename": "KeyboardInterrupt",
     "evalue": "",
     "output_type": "error",
     "traceback": [
      "\u001B[1;31m---------------------------------------------------------------------------\u001B[0m",
      "\u001B[1;31mKeyboardInterrupt\u001B[0m                         Traceback (most recent call last)",
      "\u001B[1;32m<ipython-input-64-8717f82105d0>\u001B[0m in \u001B[0;36m<module>\u001B[1;34m\u001B[0m\n\u001B[0;32m     72\u001B[0m   \u001B[0mpygame\u001B[0m\u001B[1;33m.\u001B[0m\u001B[0mdisplay\u001B[0m\u001B[1;33m.\u001B[0m\u001B[0mupdate\u001B[0m\u001B[1;33m(\u001B[0m\u001B[1;33m)\u001B[0m\u001B[1;33m\u001B[0m\u001B[1;33m\u001B[0m\u001B[0m\n\u001B[0;32m     73\u001B[0m   \u001B[1;31m# 60 frames por segundo\u001B[0m\u001B[1;33m\u001B[0m\u001B[1;33m\u001B[0m\u001B[1;33m\u001B[0m\u001B[0m\n\u001B[1;32m---> 74\u001B[1;33m   \u001B[0mclock\u001B[0m\u001B[1;33m.\u001B[0m\u001B[0mtick\u001B[0m\u001B[1;33m(\u001B[0m\u001B[1;36m60\u001B[0m\u001B[1;33m)\u001B[0m\u001B[1;33m\u001B[0m\u001B[1;33m\u001B[0m\u001B[0m\n\u001B[0m\u001B[0;32m     75\u001B[0m   \u001B[0mcont\u001B[0m \u001B[1;33m+=\u001B[0m \u001B[1;36m1\u001B[0m\u001B[1;33m\u001B[0m\u001B[1;33m\u001B[0m\u001B[0m\n\u001B[0;32m     76\u001B[0m \u001B[1;33m\u001B[0m\u001B[0m\n",
      "\u001B[1;31mKeyboardInterrupt\u001B[0m: "
     ]
    }
   ],
   "source": [
    "import pygame\n",
    "import psutil\n",
    "\n",
    "# Iniciando a janela principal\n",
    "largura_tela = 800\n",
    "altura_tela = 600\n",
    "tela = pygame.display.set_mode((largura_tela, altura_tela))\n",
    "pygame.display.set_caption(\"Uso de memória\")\n",
    "pygame.display.init()\n",
    "\n",
    "#Inicializa o módulo de fontes\n",
    "pygame.font.init()\n",
    "font = pygame.font.Font(None,32)\n",
    "\n",
    "\n",
    "#Cores\n",
    "preto = (0,0,0)\n",
    "vermelho = (255,0,0)\n",
    "azul = (0,0,255)\n",
    "branco = (255,255,255)\n",
    "\n",
    "#Função de uso de memória\n",
    "def mostra_uso_memoria():\n",
    "    mem = psutil.virtual_memory()\n",
    "    larg = largura_tela - 2*20\n",
    "    tela.fill(preto)\n",
    "    pygame.draw.rect(tela, azul, (20, 50, larg, 70))\n",
    "    larg = larg*mem.percent/100\n",
    "    pygame.draw.rect(tela, vermelho, (20, 50, larg, 70))\n",
    "    total = round(mem.total/(1024**3),2)\n",
    "    texto_barra = \"Uso de Memória (Total: \" + str(total) + \"GB):\"\n",
    "    text = font.render(texto_barra, 1, branco)\n",
    "    tela.blit(text, (40, 10))\n",
    "\n",
    "def mostra_uso_cpu():\n",
    "    capacidade = psutil.cpu_percent(interval=0)\n",
    "    larg = largura_tela - 2*20\n",
    "    pygame.draw.rect(tela, azul, (20, 250, larg, 70))\n",
    "    larg = larg*capacidade/100\n",
    "    pygame.draw.rect(tela, vermelho, (20, 250, larg, 70))\n",
    "    text = font.render(\"Uso de CPU:\", 1, branco)\n",
    "    tela.blit(text, (20, 210))\n",
    "\n",
    "def mostra_uso_disco():\n",
    "      disco = psutil.disk_usage('.')\n",
    "      larg = largura_tela - 2*20\n",
    "      pygame.draw.rect(tela, azul, (20, 450, larg, 70))\n",
    "      larg = larg*disco.percent/100\n",
    "      pygame.draw.rect(tela, vermelho, (20, 450, larg, 70))\n",
    "      total = round(disco.total/(1024*1024*1024), 2)\n",
    "      texto_barra = \"Uso de Disco: (Total: \" + str(total) + \"GB):\"\n",
    "      text = font.render(texto_barra, 1, branco)\n",
    "      tela.blit(text, (20, 410))\n",
    "\n",
    "# Cria relógio\n",
    "clock = pygame.time.Clock()\n",
    "cont = 60\n",
    "\n",
    "terminou = False\n",
    "while not terminou:\n",
    "  # Checar os eventos do mouse aqui:\n",
    "  for event in pygame.event.get():\n",
    "      if event.type == pygame.QUIT:\n",
    "          terminou = True\n",
    "  if cont == 60:\n",
    "    mostra_uso_memoria()\n",
    "    mostra_uso_cpu()\n",
    "    mostra_uso_disco()\n",
    "    cont = 0\n",
    "\n",
    "  # Atualiza o desenho na tela\n",
    "  pygame.display.update()\n",
    "  # 60 frames por segundo\n",
    "  clock.tick(60)\n",
    "  cont += 1\n",
    "\n",
    "# Finaliza a janela\n",
    "pygame.display.quit()"
   ],
   "metadata": {
    "collapsed": false,
    "pycharm": {
     "name": "#%%\n"
    }
   }
  }
 ],
 "metadata": {
  "kernelspec": {
   "display_name": "Python 3",
   "language": "python",
   "name": "python3"
  },
  "language_info": {
   "codemirror_mode": {
    "name": "ipython",
    "version": 3
   },
   "file_extension": ".py",
   "mimetype": "text/x-python",
   "name": "python",
   "nbconvert_exporter": "python",
   "pygments_lexer": "ipython3",
   "version": "3.7.7"
  }
 },
 "nbformat": 4,
 "nbformat_minor": 1
}