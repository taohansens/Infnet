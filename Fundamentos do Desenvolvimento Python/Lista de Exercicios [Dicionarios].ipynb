{
 "cells": [
  {
   "cell_type": "code",
   "execution_count": 37,
   "metadata": {
    "collapsed": true
   },
   "outputs": [
    {
     "ename": "SyntaxError",
     "evalue": "invalid syntax (<ipython-input-37-22071581447b>, line 1)",
     "output_type": "error",
     "traceback": [
      "\u001B[1;36m  File \u001B[1;32m\"<ipython-input-37-22071581447b>\"\u001B[1;36m, line \u001B[1;32m1\u001B[0m\n\u001B[1;33m    4) Sabe-se que uma molécula de RNA mensageiro é utilizada como base para sintetizar proteínas, no processo denominado de\u001B[0m\n\u001B[1;37m     ^\u001B[0m\n\u001B[1;31mSyntaxError\u001B[0m\u001B[1;31m:\u001B[0m invalid syntax\n"
     ]
    }
   ],
   "source": [
    "4) Sabe-se que uma molécula de RNA mensageiro é utilizada como base para sintetizar proteínas, no processo denominado de\n",
    "traduçao. Cada trinca de bases de RNA mensageiro está relacionado com um aminoácido. Combinando vários aminoácidos,\n",
    "temos uma proteína. Com base na tabela (simplificada) de trincas de RNA abaixo, crie uma função que receba uma string\n",
    "representando uma molécula de RNA mensageiro válida, segundo essa tabela, e retorne a cadeia de aminoácidos que\n",
    "representam a proteína correspondente:\n",
    "\n",
    "UUU Phe\n",
    "CUU Leu\n",
    "UUA Leu\n",
    "AAG Lisina\n",
    "UCU Ser\n",
    "UAU Tyr\n",
    "CAA Gln"
   ]
  },
  {
   "cell_type": "code",
   "execution_count": null,
   "outputs": [],
   "source": [
    "# Questao 04\n",
    "#regularExpressions\n",
    "import re\n",
    "\n",
    "def traducao_rnaM(valor):\n",
    "    rna = re.split(\"(\\S{3})\", valor)\n",
    "    rna = list(filter(None, rna))\n",
    "\n",
    "    tabela = {\n",
    "        'UUU' : 'Phe',\n",
    "        'CUU' : 'Leu',\n",
    "        'UUA' : 'Leu',\n",
    "        'AAG' : 'Lisina',\n",
    "        'UCU' : 'Ser',\n",
    "        'UAU' : 'Tyr',\n",
    "        'CAA' : 'Gln',\n",
    "    }\n",
    "\n",
    "    resultado = []\n",
    "\n",
    "    for trinca in rna:\n",
    "        if trinca in tabela:\n",
    "            resultado.append(tabela[trinca])\n",
    "\n",
    "    string = '-'.join(resultado)\n",
    "    return string\n",
    "\n",
    "traducao_rnaM('UUUUUAUCU')\n"
   ],
   "metadata": {
    "collapsed": false,
    "pycharm": {
     "name": "#%%\n"
    }
   }
  },
  {
   "cell_type": "markdown",
   "source": [
    "Escreva uma funcao que converte numeros inteiros entre 1 e 999 para algarismos romanos. Nao converta\n",
    "o numero para uma string, e use um laco while. Use os tres dicionarios abaixo: [...]"
   ],
   "metadata": {
    "collapsed": false
   }
  },
  {
   "cell_type": "code",
   "execution_count": 39,
   "outputs": [
    {
     "data": {
      "text/plain": "'XXXVI'"
     },
     "execution_count": 39,
     "metadata": {},
     "output_type": "execute_result"
    }
   ],
   "source": [
    "def converte_num(num):\n",
    "    # dicionarios\n",
    "    unidades = { 0: '', 1: 'I', 2: 'II', 3: 'III', 4: 'IV', 5: 'V', 6: 'VI', 7: 'VII', 8: 'VIII', 9: 'IX' }\n",
    "    dezenas = { 0: '', 1: 'X', 2: 'XX', 3: 'XXX', 4: 'XL', 5: 'L', 6: 'LX', 7: 'LXX', 8: 'LXXX', 9: 'XC' }\n",
    "    centenas = { 0:'', 1: 'C', 2: 'CC', 3: 'CCC', 4: 'CD', 5: 'D', 6: 'DC', 7: 'DCC', 8:'DCCC', 9:'CM' }\n",
    "\n",
    "    # logica para separar uni/dez/cent e buscar no dicionario o valor correspondente.\n",
    "    cent = num//100\n",
    "    c_roma = centenas[cent]\n",
    "    dez = (num-cent*100)//10\n",
    "    d_roma = dezenas[dez]\n",
    "    uni = (num-cent*100-dez*10)\n",
    "    u_roma = unidades[uni]\n",
    "\n",
    "    #retorna o numero romano\n",
    "    num_romano = c_roma+d_roma+u_roma\n",
    "\n",
    "    return num_romano\n",
    "\n",
    "converte_num(36)"
   ],
   "metadata": {
    "collapsed": false,
    "pycharm": {
     "name": "#%%\n"
    }
   }
  }
 ],
 "metadata": {
  "kernelspec": {
   "display_name": "Python 3",
   "language": "python",
   "name": "python3"
  },
  "language_info": {
   "codemirror_mode": {
    "name": "ipython",
    "version": 2
   },
   "file_extension": ".py",
   "mimetype": "text/x-python",
   "name": "python",
   "nbconvert_exporter": "python",
   "pygments_lexer": "ipython2",
   "version": "2.7.6"
  }
 },
 "nbformat": 4,
 "nbformat_minor": 0
}